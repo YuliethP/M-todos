{
 "cells": [
  {
   "cell_type": "code",
   "execution_count": 1,
   "metadata": {},
   "outputs": [],
   "source": [
    "from arcgis import GIS"
   ]
  },
  {
   "cell_type": "code",
   "execution_count": 2,
   "metadata": {},
   "outputs": [
    {
     "data": {
      "application/vnd.jupyter.widget-view+json": {
       "model_id": "344edc6a56bf4671b83ddcf9e248ae97",
       "version_major": 2,
       "version_minor": 0
      },
      "text/plain": [
       "MapView(layout=Layout(height='400px', width='100%'))"
      ]
     },
     "metadata": {},
     "output_type": "display_data"
    },
    {
     "data": {
      "text/html": [
       "<div class=\"map-static-img-preview-2792cc38-ffab-4ba4-bc35-dc0f6ea1a649\"><img src=\"\"></img></div>"
      ],
      "text/plain": [
       "<display.HTML object>"
      ]
     },
     "metadata": {},
     "output_type": "display_data"
    }
   ],
   "source": [
    "map=GIS().map(\"USA\")\n",
    "map"
   ]
  },
  {
   "cell_type": "code",
   "execution_count": 3,
   "metadata": {},
   "outputs": [
    {
     "data": {
      "application/vnd.jupyter.widget-view+json": {
       "model_id": "e1beeab6d3fa48d9ba69e9a900b50a07",
       "version_major": 2,
       "version_minor": 0
      },
      "text/plain": [
       "MapView(layout=Layout(height='400px', width='100%'))"
      ]
     },
     "metadata": {},
     "output_type": "display_data"
    },
    {
     "data": {
      "text/html": [
       "<div class=\"map-static-img-preview-5f54e048-8d0c-4797-85dd-317fea7fb03b\"><img src=\"\"></img></div>"
      ],
      "text/plain": [
       "<display.HTML object>"
      ]
     },
     "metadata": {},
     "output_type": "display_data"
    }
   ],
   "source": [
    "map=GIS().map(\"COLOMBIA\")\n",
    "map"
   ]
  },
  {
   "cell_type": "code",
   "execution_count": 4,
   "metadata": {},
   "outputs": [
    {
     "data": {
      "application/vnd.jupyter.widget-view+json": {
       "model_id": "9c0d6f05c4f2466b95a913df5846553b",
       "version_major": 2,
       "version_minor": 0
      },
      "text/plain": [
       "MapView(layout=Layout(height='400px', width='100%'))"
      ]
     },
     "metadata": {},
     "output_type": "display_data"
    },
    {
     "data": {
      "text/html": [
       "<div class=\"map-static-img-preview-8ec63b6d-c3a5-440d-b4b9-bd107c1c6a0d\"><img src=\"\"></img></div>"
      ],
      "text/plain": [
       "<display.HTML object>"
      ]
     },
     "metadata": {},
     "output_type": "display_data"
    }
   ],
   "source": [
    "map=GIS().map(\"BOGOTA\")\n",
    "map"
   ]
  },
  {
   "cell_type": "code",
   "execution_count": 2,
   "metadata": {},
   "outputs": [],
   "source": [
    "import numpy as np\n",
    "import pandas as pd\n",
    "import scipy as sp"
   ]
  },
  {
   "cell_type": "code",
   "execution_count": 6,
   "metadata": {},
   "outputs": [
    {
     "name": "stdout",
     "output_type": "stream",
     "text": [
      "Mi serie es:\n",
      "\n",
      "0    1.0\n",
      "1    3.0\n",
      "2    5.0\n",
      "3    NaN\n",
      "4    6.0\n",
      "5    8.0\n",
      "dtype: float64\n"
     ]
    }
   ],
   "source": [
    "s = pd.Series([1, 3, 5, np.nan, 6, 8])\n",
    "print(\"Mi serie es:\\n\")\n",
    "print(s)"
   ]
  },
  {
   "cell_type": "code",
   "execution_count": 7,
   "metadata": {},
   "outputs": [],
   "source": [
    "# Individuos (Fechas)\n",
    "# M = Month end Frequency \n",
    "dates = pd.date_range('20130101', periods=6,freq='M')"
   ]
  },
  {
   "cell_type": "code",
   "execution_count": 8,
   "metadata": {},
   "outputs": [
    {
     "name": "stdout",
     "output_type": "stream",
     "text": [
      "DatetimeIndex(['2013-01-31', '2013-02-28', '2013-03-31', '2013-04-30',\n",
      "               '2013-05-31', '2013-06-30'],\n",
      "              dtype='datetime64[ns]', freq='M')\n",
      "\n",
      " Showing Vertically:\n",
      "\n",
      "2013-01-31 00:00:00\n",
      "2013-02-28 00:00:00\n",
      "2013-03-31 00:00:00\n",
      "2013-04-30 00:00:00\n",
      "2013-05-31 00:00:00\n",
      "2013-06-30 00:00:00\n"
     ]
    }
   ],
   "source": [
    "# Showing horizontally\n",
    "print(dates)\n",
    "print(\"\\n Showing Vertically:\\n\")\n",
    "\n",
    "# Showing Vertically\n",
    "for date in dates:\n",
    "    print(date)"
   ]
  },
  {
   "cell_type": "code",
   "execution_count": 9,
   "metadata": {},
   "outputs": [
    {
     "name": "stdout",
     "output_type": "stream",
     "text": [
      "[[-0.08242401 -0.36726209 -0.17440699  0.75850873]\n",
      " [ 1.10523276 -1.51448639  1.22286582  0.10640415]\n",
      " [ 0.60911364  2.03944843  1.25761564  2.2137961 ]\n",
      " [-0.66399495 -1.74206671  0.7981953  -0.11366909]\n",
      " [-0.86152718  0.70972786  1.65893629 -0.7342993 ]\n",
      " [ 0.52274408 -0.77440356 -0.92319023 -0.31569239]]\n"
     ]
    }
   ],
   "source": [
    "\n",
    "A=np.random.randn(6, 4)\n",
    "print(A)"
   ]
  },
  {
   "cell_type": "code",
   "execution_count": 10,
   "metadata": {},
   "outputs": [],
   "source": [
    "variables=list(\"ABCD\")"
   ]
  },
  {
   "cell_type": "code",
   "execution_count": 11,
   "metadata": {},
   "outputs": [],
   "source": [
    "df1 = pd.DataFrame(A, index=dates, columns=variables)"
   ]
  },
  {
   "cell_type": "code",
   "execution_count": 12,
   "metadata": {},
   "outputs": [
    {
     "data": {
      "text/html": [
       "<div>\n",
       "<style scoped>\n",
       "    .dataframe tbody tr th:only-of-type {\n",
       "        vertical-align: middle;\n",
       "    }\n",
       "\n",
       "    .dataframe tbody tr th {\n",
       "        vertical-align: top;\n",
       "    }\n",
       "\n",
       "    .dataframe thead th {\n",
       "        text-align: right;\n",
       "    }\n",
       "</style>\n",
       "<table border=\"1\" class=\"dataframe\">\n",
       "  <thead>\n",
       "    <tr style=\"text-align: right;\">\n",
       "      <th></th>\n",
       "      <th>A</th>\n",
       "      <th>B</th>\n",
       "      <th>C</th>\n",
       "      <th>D</th>\n",
       "    </tr>\n",
       "  </thead>\n",
       "  <tbody>\n",
       "    <tr>\n",
       "      <td>2013-01-31</td>\n",
       "      <td>-0.082424</td>\n",
       "      <td>-0.367262</td>\n",
       "      <td>-0.174407</td>\n",
       "      <td>0.758509</td>\n",
       "    </tr>\n",
       "    <tr>\n",
       "      <td>2013-02-28</td>\n",
       "      <td>1.105233</td>\n",
       "      <td>-1.514486</td>\n",
       "      <td>1.222866</td>\n",
       "      <td>0.106404</td>\n",
       "    </tr>\n",
       "    <tr>\n",
       "      <td>2013-03-31</td>\n",
       "      <td>0.609114</td>\n",
       "      <td>2.039448</td>\n",
       "      <td>1.257616</td>\n",
       "      <td>2.213796</td>\n",
       "    </tr>\n",
       "    <tr>\n",
       "      <td>2013-04-30</td>\n",
       "      <td>-0.663995</td>\n",
       "      <td>-1.742067</td>\n",
       "      <td>0.798195</td>\n",
       "      <td>-0.113669</td>\n",
       "    </tr>\n",
       "    <tr>\n",
       "      <td>2013-05-31</td>\n",
       "      <td>-0.861527</td>\n",
       "      <td>0.709728</td>\n",
       "      <td>1.658936</td>\n",
       "      <td>-0.734299</td>\n",
       "    </tr>\n",
       "    <tr>\n",
       "      <td>2013-06-30</td>\n",
       "      <td>0.522744</td>\n",
       "      <td>-0.774404</td>\n",
       "      <td>-0.923190</td>\n",
       "      <td>-0.315692</td>\n",
       "    </tr>\n",
       "  </tbody>\n",
       "</table>\n",
       "</div>"
      ],
      "text/plain": [
       "                   A         B         C         D\n",
       "2013-01-31 -0.082424 -0.367262 -0.174407  0.758509\n",
       "2013-02-28  1.105233 -1.514486  1.222866  0.106404\n",
       "2013-03-31  0.609114  2.039448  1.257616  2.213796\n",
       "2013-04-30 -0.663995 -1.742067  0.798195 -0.113669\n",
       "2013-05-31 -0.861527  0.709728  1.658936 -0.734299\n",
       "2013-06-30  0.522744 -0.774404 -0.923190 -0.315692"
      ]
     },
     "execution_count": 12,
     "metadata": {},
     "output_type": "execute_result"
    }
   ],
   "source": [
    "df1"
   ]
  },
  {
   "cell_type": "code",
   "execution_count": 14,
   "metadata": {},
   "outputs": [
    {
     "ename": "FileNotFoundError",
     "evalue": "[Errno 2] File b'./data/El colegio Prec.csv' does not exist: b'./data/El colegio Prec.csv'",
     "output_type": "error",
     "traceback": [
      "\u001b[0;31m---------------------------------------------------------------------------\u001b[0m\n\u001b[0;31mFileNotFoundError\u001b[0m                         Traceback (most recent call last)",
      "In  \u001b[0;34m[14]\u001b[0m:\nLine \u001b[0;34m2\u001b[0m:     df=pd.read_csv(\u001b[33m\"\u001b[39;49;00m\u001b[33m./data/El colegio Prec.csv\u001b[39;49;00m\u001b[33m\"\u001b[39;49;00m)\n",
      "File \u001b[0;34mC:\\Program Files\\ArcGIS\\Pro\\bin\\Python\\envs\\arcgispro-py3\\lib\\site-packages\\pandas\\io\\parsers.py\u001b[0m, in \u001b[0;32mparser_f\u001b[0m:\nLine \u001b[0;34m685\u001b[0m:   \u001b[34mreturn\u001b[39;49;00m _read(filepath_or_buffer, kwds)\n",
      "File \u001b[0;34mC:\\Program Files\\ArcGIS\\Pro\\bin\\Python\\envs\\arcgispro-py3\\lib\\site-packages\\pandas\\io\\parsers.py\u001b[0m, in \u001b[0;32m_read\u001b[0m:\nLine \u001b[0;34m457\u001b[0m:   parser = TextFileReader(fp_or_buf, **kwds)\n",
      "File \u001b[0;34mC:\\Program Files\\ArcGIS\\Pro\\bin\\Python\\envs\\arcgispro-py3\\lib\\site-packages\\pandas\\io\\parsers.py\u001b[0m, in \u001b[0;32m__init__\u001b[0m:\nLine \u001b[0;34m895\u001b[0m:   \u001b[36mself\u001b[39;49;00m._make_engine(\u001b[36mself\u001b[39;49;00m.engine)\n",
      "File \u001b[0;34mC:\\Program Files\\ArcGIS\\Pro\\bin\\Python\\envs\\arcgispro-py3\\lib\\site-packages\\pandas\\io\\parsers.py\u001b[0m, in \u001b[0;32m_make_engine\u001b[0m:\nLine \u001b[0;34m1135\u001b[0m:  \u001b[36mself\u001b[39;49;00m._engine = CParserWrapper(\u001b[36mself\u001b[39;49;00m.f, **\u001b[36mself\u001b[39;49;00m.options)\n",
      "File \u001b[0;34mC:\\Program Files\\ArcGIS\\Pro\\bin\\Python\\envs\\arcgispro-py3\\lib\\site-packages\\pandas\\io\\parsers.py\u001b[0m, in \u001b[0;32m__init__\u001b[0m:\nLine \u001b[0;34m1917\u001b[0m:  \u001b[36mself\u001b[39;49;00m._reader = parsers.TextReader(src, **kwds)\n",
      "File \u001b[0;34mpandas\\_libs\\parsers.pyx\u001b[0m, in \u001b[0;32mpandas._libs.parsers.TextReader.__cinit__\u001b[0m:\nLine \u001b[0;34m382\u001b[0m:   \n",
      "File \u001b[0;34mpandas\\_libs\\parsers.pyx\u001b[0m, in \u001b[0;32mpandas._libs.parsers.TextReader._setup_parser_source\u001b[0m:\nLine \u001b[0;34m689\u001b[0m:   \n",
      "\u001b[0;31mFileNotFoundError\u001b[0m: [Errno 2] File b'./data/El colegio Prec.csv' does not exist: b'./data/El colegio Prec.csv'\n\u001b[0;31m---------------------------------------------------------------------------\u001b[0m"
     ]
    }
   ],
   "source": [
    "\n",
    "df=pd.read_csv(\"./data/El colegio Prec.csv\")"
   ]
  },
  {
   "cell_type": "code",
   "execution_count": 15,
   "metadata": {},
   "outputs": [
    {
     "ename": "NameError",
     "evalue": "name 'df' is not defined",
     "output_type": "error",
     "traceback": [
      "\u001b[0;31m---------------------------------------------------------------------------\u001b[0m\n\u001b[0;31mNameError\u001b[0m                                 Traceback (most recent call last)",
      "In  \u001b[0;34m[15]\u001b[0m:\nLine \u001b[0;34m1\u001b[0m:     df.head()\n",
      "\u001b[0;31mNameError\u001b[0m: name 'df' is not defined\n\u001b[0;31m---------------------------------------------------------------------------\u001b[0m"
     ]
    }
   ],
   "source": [
    "df.head()"
   ]
  },
  {
   "cell_type": "code",
   "execution_count": 1,
   "metadata": {},
   "outputs": [
    {
     "ename": "NameError",
     "evalue": "name 'nj_boundary' is not defined",
     "output_type": "error",
     "traceback": [
      "\u001b[0;31m---------------------------------------------------------------------------\u001b[0m\n\u001b[0;31mNameError\u001b[0m                                 Traceback (most recent call last)",
      "In  \u001b[0;34m[1]\u001b[0m:\nLine \u001b[0;34m1\u001b[0m:     nj_bounds = nj_boundary.layers[\u001b[34m0\u001b[39;49;00m].query(out_sr=\u001b[34m4325\u001b[39;49;00m,as_df=\u001b[34mTrue\u001b[39;49;00m)\n",
      "\u001b[0;31mNameError\u001b[0m: name 'nj_boundary' is not defined\n\u001b[0;31m---------------------------------------------------------------------------\u001b[0m"
     ]
    }
   ],
   "source": [
    "nj_bounds = nj_boundary.layers[0].query(out_sr=4325,as_df=True)\n",
    "geon = nj_bounds.iloc[0].SHAPE\n",
    "geom"
   ]
  },
  {
   "cell_type": "code",
   "execution_count": 12,
   "metadata": {},
   "outputs": [
    {
     "name": "stderr",
     "output_type": "stream",
     "text": [
      "\n",
      "'where' parameter is invalid\n"
     ]
    },
    {
     "ename": "RuntimeError",
     "evalue": "\n'where' parameter is invalid\n(Error Code: 400)",
     "output_type": "error",
     "traceback": [
      "\u001b[0;31m---------------------------------------------------------------------------\u001b[0m\n\u001b[0;31mRuntimeError\u001b[0m                              Traceback (most recent call last)",
      "In  \u001b[0;34m[12]\u001b[0m:\nLine \u001b[0;34m9\u001b[0m:     df = flayer.query(where=\u001b[33m\"\u001b[39;49;00m\u001b[33mESTACIÓN\u001b[39;49;00m\u001b[33m\"\u001b[39;49;00m).sdf\n",
      "File \u001b[0;34mC:\\Program Files\\ArcGIS\\Pro\\bin\\Python\\envs\\arcgispro-py3\\lib\\site-packages\\arcgis\\features\\layer.py\u001b[0m, in \u001b[0;32mquery\u001b[0m:\nLine \u001b[0;34m990\u001b[0m:   record_count = \u001b[36mself\u001b[39;49;00m._query(url, params, raw=as_raw)\n",
      "File \u001b[0;34mC:\\Program Files\\ArcGIS\\Pro\\bin\\Python\\envs\\arcgispro-py3\\lib\\site-packages\\arcgis\\features\\layer.py\u001b[0m, in \u001b[0;32m_query\u001b[0m:\nLine \u001b[0;34m1828\u001b[0m:  \u001b[34mraise\u001b[39;49;00m queryException\n",
      "File \u001b[0;34mC:\\Program Files\\ArcGIS\\Pro\\bin\\Python\\envs\\arcgispro-py3\\lib\\site-packages\\arcgis\\features\\layer.py\u001b[0m, in \u001b[0;32m_query\u001b[0m:\nLine \u001b[0;34m1798\u001b[0m:  postdata=params, token=\u001b[36mself\u001b[39;49;00m._token)\n",
      "File \u001b[0;34mC:\\Program Files\\ArcGIS\\Pro\\bin\\Python\\envs\\arcgispro-py3\\lib\\site-packages\\arcgis\\_impl\\connection.py\u001b[0m, in \u001b[0;32mpost\u001b[0m:\nLine \u001b[0;34m1183\u001b[0m:  \u001b[36mself\u001b[39;49;00m._handle_json_error(resp_json[\u001b[33m'\u001b[39;49;00m\u001b[33merror\u001b[39;49;00m\u001b[33m'\u001b[39;49;00m], errorcode)\n",
      "File \u001b[0;34mC:\\Program Files\\ArcGIS\\Pro\\bin\\Python\\envs\\arcgispro-py3\\lib\\site-packages\\arcgis\\_impl\\connection.py\u001b[0m, in \u001b[0;32m_handle_json_error\u001b[0m:\nLine \u001b[0;34m1204\u001b[0m:  \u001b[34mraise\u001b[39;49;00m \u001b[36mRuntimeError\u001b[39;49;00m(errormessage)\n",
      "\u001b[0;31mRuntimeError\u001b[0m: \n'where' parameter is invalid\n(Error Code: 400)\n\u001b[0;31m---------------------------------------------------------------------------\u001b[0m"
     ]
    }
   ],
   "source": [
    "from arcgis import GIS\n",
    "gis = GIS()\n",
    "# create an anonymous connection to ArcGIS Online and get a public item\n",
    "item = gis.content.get(\"9c98c1a905264f6d9ed72712fe9b2f2b\")\n",
    "#item = gis.content.get(\"85d0ca4ea1ca4b9abf0c51b9bd34de2e\")\n",
    "flayer = item.layers[0]\n",
    "\n",
    "# Specify a SQL query and get a sub-set of the original data as a DataFrame\n",
    "df = flayer.query(where=\"ESTACIÓN\").sdf\n",
    "\n",
    "# Visualize the top 5 records\n",
    "df.head()"
   ]
  },
  {
   "cell_type": "code",
   "execution_count": 6,
   "metadata": {
    "scrolled": true
   },
   "outputs": [
    {
     "data": {
      "application/vnd.jupyter.widget-view+json": {
       "model_id": "dfb421e31b094719ada4a04a33d8cfdc",
       "version_major": 2,
       "version_minor": 0
      },
      "text/plain": [
       "MapView(layout=Layout(height='400px', width='100%'))"
      ]
     },
     "metadata": {},
     "output_type": "display_data"
    },
    {
     "data": {
      "text/html": [
       "<div class=\"map-static-img-preview-512cbf42-6a5f-4e09-bcd7-222986b94f87\"><img src=\"\"></img></div>"
      ],
      "text/plain": [
       "<display.HTML object>"
      ]
     },
     "metadata": {},
     "output_type": "display_data"
    }
   ],
   "source": [
    "m1 = GIS().map('United States')\n",
    "m1"
   ]
  },
  {
   "cell_type": "code",
   "execution_count": 8,
   "metadata": {},
   "outputs": [],
   "source": [
    "m1 . zoom  =  4 \n",
    "m1 . centro  =  [ 39 , - 98 ]"
   ]
  },
  {
   "cell_type": "code",
   "execution_count": 9,
   "metadata": {},
   "outputs": [
    {
     "data": {
      "text/plain": [
       "True"
      ]
     },
     "execution_count": 9,
     "metadata": {},
     "output_type": "execute_result"
    }
   ],
   "source": [
    "df.spatial.plot(map_widget= m1)"
   ]
  },
  {
   "cell_type": "code",
   "execution_count": 10,
   "metadata": {},
   "outputs": [
    {
     "data": {
      "application/vnd.jupyter.widget-view+json": {
       "model_id": "7dd93c5f5e684b66b5f40c1bbc81f506",
       "version_major": 2,
       "version_minor": 0
      },
      "text/plain": [
       "MapView(layout=Layout(height='400px', width='100%'), zoom=4.0)"
      ]
     },
     "metadata": {},
     "output_type": "display_data"
    },
    {
     "data": {
      "text/html": [
       "<div class=\"map-static-img-preview-6d72aa0b-f881-4dd9-8435-6f4955cf9b20\"><img src=\"\"></img></div>"
      ],
      "text/plain": [
       "<display.HTML object>"
      ]
     },
     "metadata": {},
     "output_type": "display_data"
    }
   ],
   "source": [
    "m2= GIS().map('United States', zoomlevel=4)\n",
    "m2"
   ]
  },
  {
   "cell_type": "code",
   "execution_count": 11,
   "metadata": {},
   "outputs": [
    {
     "data": {
      "text/plain": [
       "True"
      ]
     },
     "execution_count": 11,
     "metadata": {},
     "output_type": "execute_result"
    }
   ],
   "source": [
    "m2.center=[39,-98]\n",
    "df.spatial.plot(map_widget=m2,\n",
    "            symbol_type='simple',\n",
    "            symbol_style='d', # d - for diamonds\n",
    "            colors='Reds_r',\n",
    "            cstep=10,\n",
    "            outline_color='Blues',\n",
    "            marker_size=10)"
   ]
  },
  {
   "cell_type": "code",
   "execution_count": null,
   "metadata": {},
   "outputs": [],
   "source": []
  }
 ],
 "metadata": {
  "kernelspec": {
   "display_name": "ArcGISPro",
   "language": "Python",
   "name": "python3"
  },
  "language_info": {
   "file_extension": ".py",
   "name": "python",
   "version": "3"
  },
  "latex_envs": {
   "LaTeX_envs_menu_present": true,
   "autoclose": false,
   "autocomplete": true,
   "bibliofile": "biblio.bib",
   "cite_by": "apalike",
   "current_citInitial": 1,
   "eqLabelWithNumbers": true,
   "eqNumInitial": 1,
   "hotkeys": {
    "equation": "Ctrl-E",
    "itemize": "Ctrl-I"
   },
   "labels_anchors": false,
   "latex_user_defs": false,
   "report_style_numbering": false,
   "user_envs_cfg": false
  },
  "toc": {
   "base_numbering": 1,
   "nav_menu": {},
   "number_sections": true,
   "sideBar": true,
   "skip_h1_title": false,
   "title_cell": "Table of Contents",
   "title_sidebar": "Contents",
   "toc_cell": false,
   "toc_position": {},
   "toc_section_display": true,
   "toc_window_display": false
  }
 },
 "nbformat": 4,
 "nbformat_minor": 2
}
