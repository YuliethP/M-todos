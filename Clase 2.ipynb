{
 "cells": [
  {
   "cell_type": "markdown",
   "metadata": {},
   "source": [
    "# Segunda Clase (feb 05)"
   ]
  },
  {
   "cell_type": "markdown",
   "metadata": {},
   "source": [
    "### Crear un ambiente llamado tf2 que contenga jupyter, jupyterlab y tensorflow.\n"
   ]
  },
  {
   "cell_type": "markdown",
   "metadata": {},
   "source": [
    "![title](Primera.jpg \"ambiente de trabajo pf2\")\n",
    "El ambiente de trabajo **pf2** se le instaló Jupyter Jupyterlab y Tensorflow.\n"
   ]
  },
  {
   "cell_type": "markdown",
   "metadata": {},
   "source": [
    "<img src=\"Segunda.jpg\"/>"
   ]
  },
  {
   "cell_type": "markdown",
   "metadata": {},
   "source": [
    "### ¿Qué versión de Python es implicada por la instalación?, ¿Es la más actual?\n",
    "La versión de Python es la 3.8.1 y la versión que se encuentra más actual de igual forma es la 3.8.1 pero ya está disponible para probar la versión 3.9.0 que está en fase de desarrollo. "
   ]
  },
  {
   "cell_type": "markdown",
   "metadata": {},
   "source": [
    "### Crear un ambiente llamado clase que contenga jupyter, jupyterlab, numpy y pandas.\n"
   ]
  },
  {
   "cell_type": "markdown",
   "metadata": {},
   "source": [
    "![title](Tercera.jpg \"ambiente de trabajo clase\")\n",
    "El ambiente de trabajo **clase** se le instaló Jupyter Jupyterlab, Numpy y Pandas."
   ]
  },
  {
   "cell_type": "markdown",
   "metadata": {},
   "source": [
    "<img src=\"Cuarta.jpg\"/>"
   ]
  },
  {
   "cell_type": "markdown",
   "metadata": {},
   "source": [
    "### ¿Qué versión de Numpy es implicada por la instalación?, ¿Es la más actual?\n"
   ]
  },
  {
   "cell_type": "markdown",
   "metadata": {},
   "source": [
    "La versión implicada es la 1.18.1 siendo la versión más actual. "
   ]
  },
  {
   "cell_type": "markdown",
   "metadata": {},
   "source": [
    "### Halle en la Web algún código que ejecute en versiones viejas de Python no compatibles con las actuales y viceversa."
   ]
  },
  {
   "cell_type": "markdown",
   "metadata": {},
   "source": [
    " python -c \"print(__import__('sys').version_info[:1])\" # (2,) python -c \"print(__import__('sys').version_info[:2])\" # (2, 7) python -c \"print(__import__('sys').version_info[:3])\" # (2, 7, 6)"
   ]
  }
 ],
 "metadata": {
  "kernelspec": {
   "display_name": "Python 3",
   "language": "python",
   "name": "python3"
  },
  "language_info": {
   "codemirror_mode": {
    "name": "ipython",
    "version": 3
   },
   "file_extension": ".py",
   "mimetype": "text/x-python",
   "name": "python",
   "nbconvert_exporter": "python",
   "pygments_lexer": "ipython3",
   "version": "3.8.1"
  }
 },
 "nbformat": 4,
 "nbformat_minor": 4
}
