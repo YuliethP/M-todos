{
 "cells": [
  {
   "cell_type": "markdown",
   "metadata": {},
   "source": [
    "# Segunda Clase (feb 05)"
   ]
  },
  {
   "cell_type": "markdown",
   "metadata": {},
   "source": [
    "### Crear un ambiente llamado tf2 que contenga jupyter, jupyterlab y tensorflow.\n"
   ]
  },
   {
   "cell_type": "markdown",
   "metadata": {},
   "source": [
    "Para comenzar a descargar los paquetes debemos tener en cuenta un orden donde nos permita tener un optimo rendimiento.\n",
    "\n",
    "#Descarga de Tensorflow.\n"
    "> *En este caso se descarga primero Tensorflow, que nos permite que python funcione adecuadamente en los otros dos paquetes\n",
    "<img src=\"https://github.com/YuliethP/M-todos/blob/master/1.jpg?raw=true\" width=\"720\" >\n",
    "\n",
    
   ]
  },
  {
   "cell_type": "markdown",
   "metadata": {},
   "source": [
    "### ¿Qué versión de Python es implicada por la instalación?, ¿Es la más actual?\n",
    "La versión de Python es la 3.8.1 y la versión que se encuentra más actual de igual forma es la 3.8.1 pero ya está disponible para probar la versión 3.9.0 que está en fase de desarrollo. "
   ]
  },
  {
   "cell_type": "code",
   "execution_count": 2,
   "metadata": {},
   "outputs": [],
   "source": [
    "#va imagen"
   ]
  },
  {
   "cell_type": "markdown",
   "metadata": {},
   "source": [
    "### ¿Qué versión de Numpy es implicada por la instalación?, ¿Es la más actual?"
   ]
  },
  {
   "cell_type": "markdown",
   "metadata": {},
   "source": [
    "La versión implicada es la 1.18.1 siendo la versión más actual. "
   ]
  },
  {
   "cell_type": "code",
   "execution_count": null,
   "metadata": {},
   "outputs": [],
   "source": []
  }
 ],
 "metadata": {
  "kernelspec": {
   "display_name": "Python 3",
   "language": "python",
   "name": "python3"
  },
  "language_info": {
   "codemirror_mode": {
    "name": "ipython",
    "version": 3
   },
   "file_extension": ".py",
   "mimetype": "text/x-python",
   "name": "python",
   "nbconvert_exporter": "python",
   "pygments_lexer": "ipython3",
   "version": "3.8.1"
  }
 },
 "nbformat": 4,
 "nbformat_minor": 4
}
