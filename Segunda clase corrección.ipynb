{
 "cells": [
  {
   "cell_type": "markdown",
   "metadata": {},
   "source": [
    "# Segunda Clase (feb 05)"
   ]
  },
  {
   "cell_type": "markdown",
   "metadata": {},
   "source": [
    "### Crear un ambiente llamado tf2 que contenga jupyter, jupyterlab y tensorflow.\n"
   ]
  },
  {
   "cell_type": "markdown",
   "metadata": {},
   "source": [
    "### ¿Qué versión de Python es implicada por la instalación?, ¿Es la más actual?\n",
    "La versión de Python es la 3.8.1 y la versión que se encuentra más actual de igual forma es la 3.8.1 pero ya está disponible para probar la versión 3.9.0 que está en fase de desarrollo. "
   ]
  },
  {
   "cell_type": "code",
   "execution_count": 2,
   "metadata": {},
   "outputs": [],
   "source": [
    "#va imagen"
   ]
  },
   {
   "cell_type": "markdown",
   "metadata": {},
   "source": [
    "Incluso podemos crear más series de datos, aprovechemos los bucles para crear más, quizas la serie de los primeros 100 números triangulares.\n",
    "\n",
    "> *Un número triangular corresponde a la cantidad de puntos que componen a un triángulo equilatero. Según el siguiente gráfico es facil ver que se obtiene a partir de la suma de los números naturales anteriores a un valor $n$ dado.\n",
    "![Triangularnumbers](https://github.com/YuliethP/M-todos/blob/master/2.jpg)\n",
    "\n",
    "Usando `for` es fácil encontrar estos números pues $T_n=1+2+3+\\cdots+(n-1)+n$, luego el siguiente código permitira ubicar los números triangulares en una lista:\n"
   ]
  },
  {
   "cell_type": "markdown",
   "metadata": {},
   "source": [
    "### ¿Qué versión de Numpy es implicada por la instalación?, ¿Es la más actual?"
   ]
  },
  {
   "cell_type": "markdown",
   "metadata": {},
   "source": [
    "La versión implicada es la 1.18.1 siendo la versión más actual. "
   ]
  },
  {
   "cell_type": "code",
   "execution_count": null,
   "metadata": {},
   "outputs": [],
   "source": []
  }
 ],
 "metadata": {
  "kernelspec": {
   "display_name": "Python 3",
   "language": "python",
   "name": "python3"
  },
  "language_info": {
   "codemirror_mode": {
    "name": "ipython",
    "version": 3
   },
   "file_extension": ".py",
   "mimetype": "text/x-python",
   "name": "python",
   "nbconvert_exporter": "python",
   "pygments_lexer": "ipython3",
   "version": "3.8.1"
  }
 },
 "nbformat": 4,
 "nbformat_minor": 4
}
