{
 "cells": [
  {
   "cell_type": "code",
   "execution_count": 2,
   "metadata": {},
   "outputs": [
    {
     "name": "stdout",
     "output_type": "stream",
     "text": [
      "Python 3.8.1\n"
     ]
    }
   ],
   "source": [
    "!python --version"
   ]
  },
  {
   "cell_type": "code",
   "execution_count": 3,
   "metadata": {},
   "outputs": [
    {
     "name": "stdout",
     "output_type": "stream",
     "text": [
      "# packages in environment at C:\\Users\\MONICA\\Anaconda3\\envs\\myenv:\n",
      "#\n",
      "# Name                    Version                   Build  Channel\n",
      "attrs                     19.3.0                     py_0  \n",
      "backcall                  0.1.0                    py38_0  \n",
      "bleach                    3.1.0                      py_0  \n",
      "ca-certificates           2020.1.1                      0  \n",
      "certifi                   2019.11.28               py38_0  \n",
      "colorama                  0.4.3                      py_0  \n",
      "decorator                 4.4.1                      py_0  \n",
      "defusedxml                0.6.0                      py_0  \n",
      "entrypoints               0.3                      py38_0  \n",
      "importlib_metadata        1.5.0                    py38_0  \n",
      "inflect                   4.1.0                    py38_0  \n",
      "ipykernel                 5.1.4            py38h39e3cac_0  \n",
      "ipython                   7.12.0           py38h5ca1d4c_0  \n",
      "ipython_genutils          0.2.0                    py38_0  \n",
      "jaraco.itertools          5.0.0                      py_0  \n",
      "jedi                      0.16.0                   py38_0  \n",
      "jinja2                    2.11.1                     py_0  \n",
      "json5                     0.9.0                      py_0  \n",
      "jsonschema                3.2.0                    py38_0  \n",
      "jupyter_client            5.3.4                    py38_0  \n",
      "jupyter_core              4.6.1                    py38_0  \n",
      "jupyterlab                1.2.6              pyhf63ae98_0  \n",
      "jupyterlab_server         1.0.6                      py_0  \n",
      "libsodium                 1.0.16               h9d3ae62_0  \n",
      "m2w64-gcc-libgfortran     5.3.0                         6  \n",
      "m2w64-gcc-libs            5.3.0                         7  \n",
      "m2w64-gcc-libs-core       5.3.0                         7  \n",
      "m2w64-gmp                 6.1.0                         2  \n",
      "m2w64-libwinpthread-git   5.0.0.4634.697f757               2  \n",
      "markupsafe                1.1.1            py38he774522_0  \n",
      "mistune                   0.8.4           py38he774522_1000  \n",
      "more-itertools            8.2.0                      py_0  \n",
      "msys2-conda-epoch         20160418                      1  \n",
      "nbconvert                 5.6.1                    py38_0  \n",
      "nbformat                  5.0.4                      py_0  \n",
      "notebook                  6.0.3                    py38_0  \n",
      "openssl                   1.1.1d               he774522_3  \n",
      "pandoc                    2.2.3.2                       0  \n",
      "pandocfilters             1.4.2                    py38_1  \n",
      "parso                     0.6.0                      py_0  \n",
      "pickleshare               0.7.5                 py38_1000  \n",
      "pip                       20.0.2                   py38_1  \n",
      "prometheus_client         0.7.1                      py_0  \n",
      "prompt_toolkit            3.0.3                      py_0  \n",
      "pygments                  2.5.2                      py_0  \n",
      "pyrsistent                0.15.7           py38he774522_0  \n",
      "python                    3.8.1                h5fd99cc_1  \n",
      "python-dateutil           2.8.1                      py_0  \n",
      "pywin32                   227              py38he774522_1  \n",
      "pywinpty                  0.5.7                    py38_0  \n",
      "pyzmq                     18.1.1           py38ha925a31_0  \n",
      "send2trash                1.5.0                    py38_0  \n",
      "setuptools                45.1.0                   py38_0  \n",
      "six                       1.14.0                   py38_0  \n",
      "sqlite                    3.31.1               he774522_0  \n",
      "terminado                 0.8.3                    py38_0  \n",
      "testpath                  0.4.4                      py_0  \n",
      "tornado                   6.0.3            py38he774522_0  \n",
      "traitlets                 4.3.3                    py38_0  \n",
      "vc                        14.1                 h0510ff6_4  \n",
      "vs2015_runtime            14.16.27012          hf0eaf9b_1  \n",
      "wcwidth                   0.1.8                      py_0  \n",
      "webencodings              0.5.1                    py38_1  \n",
      "wheel                     0.34.2                   py38_0  \n",
      "wincertstore              0.2                      py38_0  \n",
      "winpty                    0.4.3                         4  \n",
      "zeromq                    4.3.1                h33f27b4_3  \n",
      "zipp                      2.1.0                      py_0  \n"
     ]
    }
   ],
   "source": [
    "!conda list"
   ]
  },
  {
   "cell_type": "code",
   "execution_count": 4,
   "metadata": {},
   "outputs": [
    {
     "name": "stdout",
     "output_type": "stream",
     "text": [
      "\n",
      "Please wait a moment while I gather a list of all available modules...\n",
      "\n"
     ]
    },
    {
     "name": "stderr",
     "output_type": "stream",
     "text": [
      "C:\\Users\\MONICA\\Anaconda3\\envs\\myenv\\lib\\site-packages\\IPython\\kernel\\__init__.py:12: ShimWarning: The `IPython.kernel` package has been deprecated since IPython 4.0.You should import from ipykernel or jupyter_client instead.\n",
      "  warn(\"The `IPython.kernel` package has been deprecated since IPython 4.0.\"\n",
      "C:\\Users\\MONICA\\Anaconda3\\envs\\myenv\\lib\\pkgutil.py:107: VisibleDeprecationWarning: zmq.eventloop.minitornado is deprecated in pyzmq 14.0 and will be removed.\n",
      "    Install tornado itself to use zmq with the tornado IOLoop.\n",
      "    \n",
      "  yield from walk_packages(path, info.name+'.', onerror)\n"
     ]
    },
    {
     "name": "stdout",
     "output_type": "stream",
     "text": [
      "IPython             builtins            mistune             sys\n",
      "__future__          bz2                 mmap                sysconfig\n",
      "_abc                cProfile            mmapfile            tabnanny\n",
      "_ast                calendar            mmsystem            tarfile\n",
      "_asyncio            certifi             modulefinder        telnetlib\n",
      "_bisect             cgi                 more_itertools      tempfile\n",
      "_blake2             cgitb               msilib              terminado\n",
      "_bootlocale         chunk               msvcrt              test\n",
      "_bz2                cmath               multiprocessing     testpath\n",
      "_codecs             cmd                 nbconvert           tests\n",
      "_codecs_cn          code                nbformat            textwrap\n",
      "_codecs_hk          codecs              netbios             this\n",
      "_codecs_iso2022     codeop              netrc               threading\n",
      "_codecs_jp          collections         nntplib             time\n",
      "_codecs_kr          colorama            notebook            timeit\n",
      "_codecs_tw          colorsys            nt                  timer\n",
      "_collections        commctrl            ntpath              tkinter\n",
      "_collections_abc    compileall          ntsecuritycon       token\n",
      "_compat_pickle      concurrent          nturl2path          tokenize\n",
      "_compression        configparser        numbers             tornado\n",
      "_contextvars        contextlib          odbc                trace\n",
      "_csv                contextvars         opcode              traceback\n",
      "_ctypes             copy                operator            tracemalloc\n",
      "_ctypes_test        copyreg             optparse            traitlets\n",
      "_datetime           crypt               os                  tty\n",
      "_decimal            csv                 pandocfilters       turtle\n",
      "_dummy_thread       ctypes              parser              turtledemo\n",
      "_elementtree        curses              parso               types\n",
      "_functools          cythonmagic         pathlib             typing\n",
      "_hashlib            dataclasses         pdb                 unicodedata\n",
      "_heapq              datetime            perfmon             unittest\n",
      "_imp                dateutil            pickle              urllib\n",
      "_io                 dbi                 pickleshare         uu\n",
      "_json               dbm                 pickletools         uuid\n",
      "_locale             dde                 pip                 venv\n",
      "_lsprof             decimal             pipes               warnings\n",
      "_lzma               decorator           pkg_resources       wave\n",
      "_markupbase         defusedxml          pkgutil             wcwidth\n",
      "_md5                difflib             platform            weakref\n",
      "_msi                dis                 plistlib            webbrowser\n",
      "_multibytecodec     distutils           poplib              webencodings\n",
      "_multiprocessing    doctest             posixpath           wheel\n",
      "_opcode             dummy_threading     pprint              win2kras\n",
      "_operator           easy_install        profile             win32api\n",
      "_osx_support        email               prometheus_client   win32clipboard\n",
      "_overlapped         encodings           prompt_toolkit      win32com\n",
      "_pickle             ensurepip           pstats              win32con\n",
      "_py_abc             entrypoints         pty                 win32console\n",
      "_pydecimal          enum                pvectorc            win32cred\n",
      "_pyio               errno               py_compile          win32crypt\n",
      "_pyrsistent_version faulthandler        pyclbr              win32cryptcon\n",
      "_queue              filecmp             pydoc               win32event\n",
      "_random             fileinput           pydoc_data          win32evtlog\n",
      "_sha1               fnmatch             pyexpat             win32evtlogutil\n",
      "_sha256             formatter           pygments            win32file\n",
      "_sha3               fractions           pyrsistent          win32gui\n",
      "_sha512             ftplib              pythoncom           win32gui_struct\n",
      "_signal             functools           pywin               win32help\n",
      "_sitebuiltins       gc                  pywin32_bootstrap   win32inet\n",
      "_socket             genericpath         pywin32_testutil    win32inetcon\n",
      "_sqlite3            getopt              pywintypes          win32job\n",
      "_sre                getpass             queue               win32lz\n",
      "_ssl                gettext             quopri              win32net\n",
      "_stat               glob                random              win32netcon\n",
      "_statistics         gzip                rasutil             win32pdh\n",
      "_string             hashlib             re                  win32pdhquery\n",
      "_strptime           heapq               regcheck            win32pdhutil\n",
      "_struct             hmac                regutil             win32pipe\n",
      "_symtable           html                reprlib             win32print\n",
      "_testbuffer         http                rlcompleter         win32process\n",
      "_testcapi           idlelib             rmagic              win32profile\n",
      "_testconsole        imaplib             runpy               win32ras\n",
      "_testimportmultiple imghdr              sched               win32rcparser\n",
      "_testinternalcapi   imp                 secrets             win32security\n",
      "_testmultiphase     importlib           select              win32service\n",
      "_thread             importlib_metadata  selectors           win32serviceutil\n",
      "_threading_local    inflect             send2trash          win32timezone\n",
      "_tkinter            inspect             servicemanager      win32trace\n",
      "_tracemalloc        io                  setuptools          win32traceutil\n",
      "_warnings           ipaddress           shelve              win32transaction\n",
      "_weakref            ipykernel           shlex               win32ts\n",
      "_weakrefset         ipykernel_launcher  shutil              win32ui\n",
      "_win32sysloader     ipython_genutils    signal              win32uiole\n",
      "_winapi             isapi               site                win32verstamp\n",
      "_winxptheme         itertools           six                 win32wnet\n",
      "_xxsubinterpreters  jaraco              smtpd               wincertstore\n",
      "abc                 jedi                smtplib             winerror\n",
      "adodbapi            jinja2              sndhdr              winioctlcon\n",
      "afxres              json                socket              winnt\n",
      "aifc                json5               socketserver        winperf\n",
      "antigravity         jsonschema          sqlite3             winpty\n",
      "argparse            jupyter             sre_compile         winreg\n",
      "array               jupyter_client      sre_constants       winsound\n",
      "ast                 jupyter_core        sre_parse           winxpgui\n",
      "asynchat            jupyterlab          ssl                 winxptheme\n",
      "asyncio             jupyterlab_server   sspi                wsgiref\n",
      "asyncore            keyword             sspicon             xdrlib\n",
      "atexit              lib2to3             stat                xml\n",
      "attr                linecache           statistics          xmlrpc\n",
      "audioop             locale              storemagic          xxsubtype\n",
      "autoreload          logging             string              zipapp\n",
      "backcall            lzma                stringprep          zipfile\n",
      "base64              mailbox             struct              zipimport\n",
      "bdb                 mailcap             subprocess          zipp\n",
      "binascii            markupsafe          sunau               zlib\n",
      "binhex              marshal             symbol              zmq\n",
      "bisect              math                sympyprinting       \n",
      "bleach              mimetypes           symtable            \n",
      "\n",
      "Enter any module name to get more help.  Or, type \"modules spam\" to search\n",
      "for modules whose name or summary contain the string \"spam\".\n",
      "\n"
     ]
    }
   ],
   "source": [
    "help(\"modules\")"
   ]
  },
  {
   "cell_type": "code",
   "execution_count": 17,
   "metadata": {},
   "outputs": [],
   "source": [
    "# Módulo math\n",
    "import math "
   ]
  },
  {
   "cell_type": "code",
   "execution_count": 18,
   "metadata": {},
   "outputs": [
    {
     "data": {
      "text/plain": [
       "['__doc__',\n",
       " '__loader__',\n",
       " '__name__',\n",
       " '__package__',\n",
       " '__spec__',\n",
       " 'acos',\n",
       " 'acosh',\n",
       " 'asin',\n",
       " 'asinh',\n",
       " 'atan',\n",
       " 'atan2',\n",
       " 'atanh',\n",
       " 'ceil',\n",
       " 'comb',\n",
       " 'copysign',\n",
       " 'cos',\n",
       " 'cosh',\n",
       " 'degrees',\n",
       " 'dist',\n",
       " 'e',\n",
       " 'erf',\n",
       " 'erfc',\n",
       " 'exp',\n",
       " 'expm1',\n",
       " 'fabs',\n",
       " 'factorial',\n",
       " 'floor',\n",
       " 'fmod',\n",
       " 'frexp',\n",
       " 'fsum',\n",
       " 'gamma',\n",
       " 'gcd',\n",
       " 'hypot',\n",
       " 'inf',\n",
       " 'isclose',\n",
       " 'isfinite',\n",
       " 'isinf',\n",
       " 'isnan',\n",
       " 'isqrt',\n",
       " 'ldexp',\n",
       " 'lgamma',\n",
       " 'log',\n",
       " 'log10',\n",
       " 'log1p',\n",
       " 'log2',\n",
       " 'modf',\n",
       " 'nan',\n",
       " 'perm',\n",
       " 'pi',\n",
       " 'pow',\n",
       " 'prod',\n",
       " 'radians',\n",
       " 'remainder',\n",
       " 'sin',\n",
       " 'sinh',\n",
       " 'sqrt',\n",
       " 'tan',\n",
       " 'tanh',\n",
       " 'tau',\n",
       " 'trunc']"
      ]
     },
     "execution_count": 18,
     "metadata": {},
     "output_type": "execute_result"
    }
   ],
   "source": [
    "# Atributos del módulo\n",
    "dir(math)"
   ]
  },
  {
   "cell_type": "code",
   "execution_count": 20,
   "metadata": {},
   "outputs": [
    {
     "data": {
      "text/plain": [
       "20"
      ]
     },
     "execution_count": 20,
     "metadata": {},
     "output_type": "execute_result"
    }
   ],
   "source": [
    "# un ejemplo con el módulo math\n",
    "math.isqrt(400)"
   ]
  },
  {
   "cell_type": "code",
   "execution_count": 21,
   "metadata": {},
   "outputs": [],
   "source": [
    "# Módulo calendar\n",
    "import calendar"
   ]
  },
  {
   "cell_type": "code",
   "execution_count": 24,
   "metadata": {},
   "outputs": [
    {
     "data": {
      "text/plain": [
       "['Calendar',\n",
       " 'EPOCH',\n",
       " 'FRIDAY',\n",
       " 'February',\n",
       " 'HTMLCalendar',\n",
       " 'IllegalMonthError',\n",
       " 'IllegalWeekdayError',\n",
       " 'January',\n",
       " 'LocaleHTMLCalendar',\n",
       " 'LocaleTextCalendar',\n",
       " 'MONDAY',\n",
       " 'SATURDAY',\n",
       " 'SUNDAY',\n",
       " 'THURSDAY',\n",
       " 'TUESDAY',\n",
       " 'TextCalendar',\n",
       " 'WEDNESDAY',\n",
       " '_EPOCH_ORD',\n",
       " '__all__',\n",
       " '__builtins__',\n",
       " '__cached__',\n",
       " '__doc__',\n",
       " '__file__',\n",
       " '__loader__',\n",
       " '__name__',\n",
       " '__package__',\n",
       " '__spec__',\n",
       " '_colwidth',\n",
       " '_locale',\n",
       " '_localized_day',\n",
       " '_localized_month',\n",
       " '_monthlen',\n",
       " '_nextmonth',\n",
       " '_prevmonth',\n",
       " '_spacing',\n",
       " 'c',\n",
       " 'calendar',\n",
       " 'datetime',\n",
       " 'day_abbr',\n",
       " 'day_name',\n",
       " 'different_locale',\n",
       " 'error',\n",
       " 'firstweekday',\n",
       " 'format',\n",
       " 'formatstring',\n",
       " 'isleap',\n",
       " 'leapdays',\n",
       " 'main',\n",
       " 'mdays',\n",
       " 'month',\n",
       " 'month_abbr',\n",
       " 'month_name',\n",
       " 'monthcalendar',\n",
       " 'monthrange',\n",
       " 'prcal',\n",
       " 'prmonth',\n",
       " 'prweek',\n",
       " 'repeat',\n",
       " 'setfirstweekday',\n",
       " 'sys',\n",
       " 'timegm',\n",
       " 'week',\n",
       " 'weekday',\n",
       " 'weekheader']"
      ]
     },
     "execution_count": 24,
     "metadata": {},
     "output_type": "execute_result"
    }
   ],
   "source": [
    "# Atributos del módulo calendar\n",
    "dir(calendar)"
   ]
  },
  {
   "cell_type": "code",
   "execution_count": 26,
   "metadata": {},
   "outputs": [
    {
     "name": "stdout",
     "output_type": "stream",
     "text": [
      "   February 2020\n",
      "Su Mo Tu We Th Fr Sa\n",
      "                   1\n",
      " 2  3  4  5  6  7  8\n",
      " 9 10 11 12 13 14 15\n",
      "16 17 18 19 20 21 22\n",
      "23 24 25 26 27 28 29\n",
      "\n"
     ]
    }
   ],
   "source": [
    "# un ejemplo con el módulo\n",
    "c=calendar.TextCalendar(calendar.SUNDAY)\n",
    "srt=c.formatmonth(2020,2)\n",
    "print(srt)"
   ]
  },
  {
   "cell_type": "code",
   "execution_count": 28,
   "metadata": {},
   "outputs": [],
   "source": [
    "import datetime"
   ]
  },
  {
   "cell_type": "code",
   "execution_count": 31,
   "metadata": {},
   "outputs": [
    {
     "data": {
      "text/plain": [
       "['MAXYEAR',\n",
       " 'MINYEAR',\n",
       " '__builtins__',\n",
       " '__cached__',\n",
       " '__doc__',\n",
       " '__file__',\n",
       " '__loader__',\n",
       " '__name__',\n",
       " '__package__',\n",
       " '__spec__',\n",
       " 'date',\n",
       " 'datetime',\n",
       " 'datetime_CAPI',\n",
       " 'sys',\n",
       " 'time',\n",
       " 'timedelta',\n",
       " 'timezone',\n",
       " 'tzinfo']"
      ]
     },
     "execution_count": 31,
     "metadata": {},
     "output_type": "execute_result"
    }
   ],
   "source": [
    "dir(datetime)"
   ]
  },
  {
   "cell_type": "code",
   "execution_count": 38,
   "metadata": {},
   "outputs": [
    {
     "name": "stdout",
     "output_type": "stream",
     "text": [
      "2020-02-16 18:42:34.328868\n"
     ]
    }
   ],
   "source": [
    "# Ejemplo con el atributo datetime permite ver fecha y hora en tiempo real\n",
    "x=datetime.datetime.now()\n",
    "print(x)"
   ]
  },
  {
   "cell_type": "code",
   "execution_count": 7,
   "metadata": {},
   "outputs": [],
   "source": [
    "# Módulo turtle\n",
    "import turtle"
   ]
  },
  {
   "cell_type": "code",
   "execution_count": 8,
   "metadata": {},
   "outputs": [
    {
     "data": {
      "text/plain": [
       "['Canvas',\n",
       " 'Pen',\n",
       " 'RawPen',\n",
       " 'RawTurtle',\n",
       " 'Screen',\n",
       " 'ScrolledCanvas',\n",
       " 'Shape',\n",
       " 'TK',\n",
       " 'TNavigator',\n",
       " 'TPen',\n",
       " 'Tbuffer',\n",
       " 'Terminator',\n",
       " 'Turtle',\n",
       " 'TurtleGraphicsError',\n",
       " 'TurtleScreen',\n",
       " 'TurtleScreenBase',\n",
       " 'Vec2D',\n",
       " '_CFG',\n",
       " '_LANGUAGE',\n",
       " '_Root',\n",
       " '_Screen',\n",
       " '_TurtleImage',\n",
       " '__all__',\n",
       " '__builtins__',\n",
       " '__cached__',\n",
       " '__doc__',\n",
       " '__file__',\n",
       " '__forwardmethods',\n",
       " '__func_body',\n",
       " '__loader__',\n",
       " '__methodDict',\n",
       " '__methods',\n",
       " '__name__',\n",
       " '__package__',\n",
       " '__spec__',\n",
       " '__stringBody',\n",
       " '_alias_list',\n",
       " '_make_global_funcs',\n",
       " '_screen_docrevise',\n",
       " '_tg_classes',\n",
       " '_tg_screen_functions',\n",
       " '_tg_turtle_functions',\n",
       " '_tg_utilities',\n",
       " '_turtle_docrevise',\n",
       " '_ver',\n",
       " 'addshape',\n",
       " 'back',\n",
       " 'backward',\n",
       " 'begin_fill',\n",
       " 'begin_poly',\n",
       " 'bgcolor',\n",
       " 'bgpic',\n",
       " 'bk',\n",
       " 'bye',\n",
       " 'circle',\n",
       " 'clear',\n",
       " 'clearscreen',\n",
       " 'clearstamp',\n",
       " 'clearstamps',\n",
       " 'clone',\n",
       " 'color',\n",
       " 'colormode',\n",
       " 'config_dict',\n",
       " 'deepcopy',\n",
       " 'degrees',\n",
       " 'delay',\n",
       " 'distance',\n",
       " 'done',\n",
       " 'dot',\n",
       " 'down',\n",
       " 'end_fill',\n",
       " 'end_poly',\n",
       " 'exitonclick',\n",
       " 'fd',\n",
       " 'fillcolor',\n",
       " 'filling',\n",
       " 'forward',\n",
       " 'get_poly',\n",
       " 'get_shapepoly',\n",
       " 'getcanvas',\n",
       " 'getmethparlist',\n",
       " 'getpen',\n",
       " 'getscreen',\n",
       " 'getshapes',\n",
       " 'getturtle',\n",
       " 'goto',\n",
       " 'heading',\n",
       " 'hideturtle',\n",
       " 'home',\n",
       " 'ht',\n",
       " 'inspect',\n",
       " 'isdown',\n",
       " 'isfile',\n",
       " 'isvisible',\n",
       " 'join',\n",
       " 'left',\n",
       " 'listen',\n",
       " 'lt',\n",
       " 'mainloop',\n",
       " 'math',\n",
       " 'mode',\n",
       " 'numinput',\n",
       " 'onclick',\n",
       " 'ondrag',\n",
       " 'onkey',\n",
       " 'onkeypress',\n",
       " 'onkeyrelease',\n",
       " 'onrelease',\n",
       " 'onscreenclick',\n",
       " 'ontimer',\n",
       " 'pd',\n",
       " 'pen',\n",
       " 'pencolor',\n",
       " 'pendown',\n",
       " 'pensize',\n",
       " 'penup',\n",
       " 'pos',\n",
       " 'position',\n",
       " 'pu',\n",
       " 'radians',\n",
       " 'read_docstrings',\n",
       " 'readconfig',\n",
       " 'register_shape',\n",
       " 'reset',\n",
       " 'resetscreen',\n",
       " 'resizemode',\n",
       " 'right',\n",
       " 'rt',\n",
       " 'screensize',\n",
       " 'seth',\n",
       " 'setheading',\n",
       " 'setpos',\n",
       " 'setposition',\n",
       " 'settiltangle',\n",
       " 'setundobuffer',\n",
       " 'setup',\n",
       " 'setworldcoordinates',\n",
       " 'setx',\n",
       " 'sety',\n",
       " 'shape',\n",
       " 'shapesize',\n",
       " 'shapetransform',\n",
       " 'shearfactor',\n",
       " 'showturtle',\n",
       " 'simpledialog',\n",
       " 'speed',\n",
       " 'split',\n",
       " 'st',\n",
       " 'stamp',\n",
       " 'sys',\n",
       " 'textinput',\n",
       " 'tilt',\n",
       " 'tiltangle',\n",
       " 'time',\n",
       " 'title',\n",
       " 'towards',\n",
       " 'tracer',\n",
       " 'turtles',\n",
       " 'turtlesize',\n",
       " 'types',\n",
       " 'undo',\n",
       " 'undobufferentries',\n",
       " 'up',\n",
       " 'update',\n",
       " 'width',\n",
       " 'window_height',\n",
       " 'window_width',\n",
       " 'write',\n",
       " 'write_docstringdict',\n",
       " 'xcor',\n",
       " 'ycor']"
      ]
     },
     "execution_count": 8,
     "metadata": {},
     "output_type": "execute_result"
    }
   ],
   "source": [
    "# Atributos de turtle\n",
    "dir(turtle)"
   ]
  },
  {
   "cell_type": "code",
   "execution_count": null,
   "metadata": {},
   "outputs": [],
   "source": [
    "star = turtle.Turtle() \n",
    "  \n",
    "for i in range(50): \n",
    "    star.forward(50) \n",
    "    star.right(144) \n",
    "      \n",
    "turtle.done() "
   ]
  },
  {
   "cell_type": "code",
   "execution_count": null,
   "metadata": {},
   "outputs": [],
   "source": [
    "# Imagen que demuestra la estrella que se dibujó a partir del módulo Turtle\n",
   ]
  },
  {
   "cell_type": "code",
   "execution_count": 1,
   "metadata": {},
   "outputs": [],
   "source": [
    "# Módulo random \n",
    "import random"
   ]
  },
  {
   "cell_type": "code",
   "execution_count": 2,
   "metadata": {},
   "outputs": [
    {
     "data": {
      "text/plain": [
       "['BPF',\n",
       " 'LOG4',\n",
       " 'NV_MAGICCONST',\n",
       " 'RECIP_BPF',\n",
       " 'Random',\n",
       " 'SG_MAGICCONST',\n",
       " 'SystemRandom',\n",
       " 'TWOPI',\n",
       " '_Sequence',\n",
       " '_Set',\n",
       " '__all__',\n",
       " '__builtins__',\n",
       " '__cached__',\n",
       " '__doc__',\n",
       " '__file__',\n",
       " '__loader__',\n",
       " '__name__',\n",
       " '__package__',\n",
       " '__spec__',\n",
       " '_accumulate',\n",
       " '_acos',\n",
       " '_bisect',\n",
       " '_ceil',\n",
       " '_cos',\n",
       " '_e',\n",
       " '_exp',\n",
       " '_inst',\n",
       " '_log',\n",
       " '_os',\n",
       " '_pi',\n",
       " '_random',\n",
       " '_repeat',\n",
       " '_sha512',\n",
       " '_sin',\n",
       " '_sqrt',\n",
       " '_test',\n",
       " '_test_generator',\n",
       " '_urandom',\n",
       " '_warn',\n",
       " 'betavariate',\n",
       " 'choice',\n",
       " 'choices',\n",
       " 'expovariate',\n",
       " 'gammavariate',\n",
       " 'gauss',\n",
       " 'getrandbits',\n",
       " 'getstate',\n",
       " 'lognormvariate',\n",
       " 'normalvariate',\n",
       " 'paretovariate',\n",
       " 'randint',\n",
       " 'random',\n",
       " 'randrange',\n",
       " 'sample',\n",
       " 'seed',\n",
       " 'setstate',\n",
       " 'shuffle',\n",
       " 'triangular',\n",
       " 'uniform',\n",
       " 'vonmisesvariate',\n",
       " 'weibullvariate']"
      ]
     },
     "execution_count": 2,
     "metadata": {},
     "output_type": "execute_result"
    }
   ],
   "source": [
    "# Atributos de random\n",
    "dir(random)"
   ]
  },
  {
   "cell_type": "code",
   "execution_count": 15,
   "metadata": {},
   "outputs": [
    {
     "name": "stdout",
     "output_type": "stream",
     "text": [
      "Select random element from list -  Tunja\n"
     ]
    }
   ],
   "source": [
    "#Ejemplo con el módulo Random\n",
    "lista_ciudades = ['Ibagué', 'Tunja', 'Cartagena', 'Leticia', 'Cali']\n",
    "print(\"Select random element from list - \", random.choice(lista_ciudades))"
   ]
  },
  {
   "cell_type": "code",
   "execution_count": 16,
   "metadata": {},
   "outputs": [],
   "source": [
    "# Módulo Platform\n",
    "import platform"
   ]
  },
  {
   "cell_type": "code",
   "execution_count": 17,
   "metadata": {},
   "outputs": [
    {
     "data": {
      "text/plain": [
       "['_WIN32_CLIENT_RELEASES',\n",
       " '_WIN32_SERVER_RELEASES',\n",
       " '__builtins__',\n",
       " '__cached__',\n",
       " '__copyright__',\n",
       " '__doc__',\n",
       " '__file__',\n",
       " '__loader__',\n",
       " '__name__',\n",
       " '__package__',\n",
       " '__spec__',\n",
       " '__version__',\n",
       " '_comparable_version',\n",
       " '_component_re',\n",
       " '_default_architecture',\n",
       " '_follow_symlinks',\n",
       " '_ironpython26_sys_version_parser',\n",
       " '_ironpython_sys_version_parser',\n",
       " '_java_getprop',\n",
       " '_libc_search',\n",
       " '_mac_ver_xml',\n",
       " '_node',\n",
       " '_norm_version',\n",
       " '_platform',\n",
       " '_platform_cache',\n",
       " '_pypy_sys_version_parser',\n",
       " '_sys_version',\n",
       " '_sys_version_cache',\n",
       " '_sys_version_parser',\n",
       " '_syscmd_file',\n",
       " '_syscmd_uname',\n",
       " '_syscmd_ver',\n",
       " '_uname_cache',\n",
       " '_ver_output',\n",
       " '_ver_stages',\n",
       " 'architecture',\n",
       " 'collections',\n",
       " 'java_ver',\n",
       " 'libc_ver',\n",
       " 'mac_ver',\n",
       " 'machine',\n",
       " 'node',\n",
       " 'os',\n",
       " 'platform',\n",
       " 'processor',\n",
       " 'python_branch',\n",
       " 'python_build',\n",
       " 'python_compiler',\n",
       " 'python_implementation',\n",
       " 'python_revision',\n",
       " 'python_version',\n",
       " 'python_version_tuple',\n",
       " 're',\n",
       " 'release',\n",
       " 'sys',\n",
       " 'system',\n",
       " 'system_alias',\n",
       " 'uname',\n",
       " 'uname_result',\n",
       " 'version',\n",
       " 'win32_edition',\n",
       " 'win32_is_iot',\n",
       " 'win32_ver']"
      ]
     },
     "execution_count": 17,
     "metadata": {},
     "output_type": "execute_result"
    }
   ],
   "source": [
    "dir(platform)"
   ]
  },
  {
   "cell_type": "code",
   "execution_count": 35,
   "metadata": {},
   "outputs": [
    {
     "name": "stdout",
     "output_type": "stream",
     "text": [
      "10.0.18362\n"
     ]
    }
   ],
   "source": [
    "# Ejemplo con platform\n",
    "x = platform.version()\n",
    "print(x)"
   ]
  },
  {
   "cell_type": "code",
   "execution_count": 37,
   "metadata": {},
   "outputs": [],
   "source": [
    "# Módulo fibonacci\n",
    "import json"
   ]
  },
  {
   "cell_type": "code",
   "execution_count": 38,
   "metadata": {},
   "outputs": [
    {
     "data": {
      "text/plain": [
       "['JSONDecodeError',\n",
       " 'JSONDecoder',\n",
       " 'JSONEncoder',\n",
       " '__all__',\n",
       " '__author__',\n",
       " '__builtins__',\n",
       " '__cached__',\n",
       " '__doc__',\n",
       " '__file__',\n",
       " '__loader__',\n",
       " '__name__',\n",
       " '__package__',\n",
       " '__path__',\n",
       " '__spec__',\n",
       " '__version__',\n",
       " '_default_decoder',\n",
       " '_default_encoder',\n",
       " 'codecs',\n",
       " 'decoder',\n",
       " 'detect_encoding',\n",
       " 'dump',\n",
       " 'dumps',\n",
       " 'encoder',\n",
       " 'load',\n",
       " 'loads',\n",
       " 'scanner']"
      ]
     },
     "execution_count": 38,
     "metadata": {},
     "output_type": "execute_result"
    }
   ],
   "source": [
    "dir"
   ]
  },
  {
   "cell_type": "code",
   "execution_count": 45,
   "metadata": {},
   "outputs": [
    {
     "name": "stdout",
     "output_type": "stream",
     "text": [
      "{\n",
      "    \"4\": 5,\n",
      "    \"6\": 7\n",
      "}\n"
     ]
    },
    {
     "data": {
      "text/plain": [
       "{'4': 5, '6': 7}"
      ]
     },
     "execution_count": 45,
     "metadata": {},
     "output_type": "execute_result"
    }
   ],
   "source": [
    "# Ejemplo con el módulo json\n",
    "print(json.dumps({'4': 5, '6': 7}, sort_keys=True, indent=4))\n",
    "{\n",
    "    \"4\": 5,\n",
    "    \"6\": 7\n",
    "}"
   ]
  },
  {
   "cell_type": "code",
   "execution_count": 46,
   "metadata": {},
   "outputs": [],
   "source": [
    "# Módulo sys\n",
    "import sys"
   ]
  },
  {
   "cell_type": "code",
   "execution_count": 47,
   "metadata": {},
   "outputs": [
    {
     "data": {
      "text/plain": [
       "['__breakpointhook__',\n",
       " '__displayhook__',\n",
       " '__doc__',\n",
       " '__excepthook__',\n",
       " '__interactivehook__',\n",
       " '__loader__',\n",
       " '__name__',\n",
       " '__package__',\n",
       " '__spec__',\n",
       " '__stderr__',\n",
       " '__stdin__',\n",
       " '__stdout__',\n",
       " '__unraisablehook__',\n",
       " '_base_executable',\n",
       " '_clear_type_cache',\n",
       " '_current_frames',\n",
       " '_debugmallocstats',\n",
       " '_enablelegacywindowsfsencoding',\n",
       " '_framework',\n",
       " '_getframe',\n",
       " '_git',\n",
       " '_home',\n",
       " '_xoptions',\n",
       " 'addaudithook',\n",
       " 'api_version',\n",
       " 'argv',\n",
       " 'audit',\n",
       " 'base_exec_prefix',\n",
       " 'base_prefix',\n",
       " 'breakpointhook',\n",
       " 'builtin_module_names',\n",
       " 'byteorder',\n",
       " 'call_tracing',\n",
       " 'callstats',\n",
       " 'copyright',\n",
       " 'displayhook',\n",
       " 'dllhandle',\n",
       " 'dont_write_bytecode',\n",
       " 'exc_info',\n",
       " 'excepthook',\n",
       " 'exec_prefix',\n",
       " 'executable',\n",
       " 'exit',\n",
       " 'flags',\n",
       " 'float_info',\n",
       " 'float_repr_style',\n",
       " 'get_asyncgen_hooks',\n",
       " 'get_coroutine_origin_tracking_depth',\n",
       " 'getallocatedblocks',\n",
       " 'getcheckinterval',\n",
       " 'getdefaultencoding',\n",
       " 'getfilesystemencodeerrors',\n",
       " 'getfilesystemencoding',\n",
       " 'getprofile',\n",
       " 'getrecursionlimit',\n",
       " 'getrefcount',\n",
       " 'getsizeof',\n",
       " 'getswitchinterval',\n",
       " 'gettrace',\n",
       " 'getwindowsversion',\n",
       " 'hash_info',\n",
       " 'hexversion',\n",
       " 'implementation',\n",
       " 'int_info',\n",
       " 'intern',\n",
       " 'is_finalizing',\n",
       " 'last_traceback',\n",
       " 'last_type',\n",
       " 'last_value',\n",
       " 'maxsize',\n",
       " 'maxunicode',\n",
       " 'meta_path',\n",
       " 'modules',\n",
       " 'path',\n",
       " 'path_hooks',\n",
       " 'path_importer_cache',\n",
       " 'platform',\n",
       " 'prefix',\n",
       " 'ps1',\n",
       " 'ps2',\n",
       " 'ps3',\n",
       " 'pycache_prefix',\n",
       " 'set_asyncgen_hooks',\n",
       " 'set_coroutine_origin_tracking_depth',\n",
       " 'setcheckinterval',\n",
       " 'setprofile',\n",
       " 'setrecursionlimit',\n",
       " 'setswitchinterval',\n",
       " 'settrace',\n",
       " 'stderr',\n",
       " 'stdin',\n",
       " 'stdout',\n",
       " 'thread_info',\n",
       " 'unraisablehook',\n",
       " 'version',\n",
       " 'version_info',\n",
       " 'warnoptions',\n",
       " 'winver']"
      ]
     },
     "execution_count": 47,
     "metadata": {},
     "output_type": "execute_result"
    }
   ],
   "source": [
    "dir(sys)"
   ]
  },
  {
   "cell_type": "code",
   "execution_count": 48,
   "metadata": {},
   "outputs": [
    {
     "data": {
      "text/plain": [
       "['C:\\\\Users\\\\MONICA',\n",
       " 'C:\\\\Users\\\\MONICA\\\\Anaconda3\\\\envs\\\\myenv\\\\python38.zip',\n",
       " 'C:\\\\Users\\\\MONICA\\\\Anaconda3\\\\envs\\\\myenv\\\\DLLs',\n",
       " 'C:\\\\Users\\\\MONICA\\\\Anaconda3\\\\envs\\\\myenv\\\\lib',\n",
       " 'C:\\\\Users\\\\MONICA\\\\Anaconda3\\\\envs\\\\myenv',\n",
       " '',\n",
       " 'C:\\\\Users\\\\MONICA\\\\Anaconda3\\\\envs\\\\myenv\\\\lib\\\\site-packages',\n",
       " 'C:\\\\Users\\\\MONICA\\\\Anaconda3\\\\envs\\\\myenv\\\\lib\\\\site-packages\\\\win32',\n",
       " 'C:\\\\Users\\\\MONICA\\\\Anaconda3\\\\envs\\\\myenv\\\\lib\\\\site-packages\\\\win32\\\\lib',\n",
       " 'C:\\\\Users\\\\MONICA\\\\Anaconda3\\\\envs\\\\myenv\\\\lib\\\\site-packages\\\\Pythonwin',\n",
       " 'C:\\\\Users\\\\MONICA\\\\Anaconda3\\\\envs\\\\myenv\\\\lib\\\\site-packages\\\\IPython\\\\extensions',\n",
       " 'C:\\\\Users\\\\MONICA\\\\.ipython']"
      ]
     },
     "execution_count": 48,
     "metadata": {},
     "output_type": "execute_result"
    }
   ],
   "source": [
    "#Ejemplo sys\n",
    "sys.path"
   ]
  },
  {
   "cell_type": "code",
   "execution_count": 49,
   "metadata": {},
   "outputs": [],
   "source": [
    "#Módulo os\n",
    "import os"
   ]
  },
  {
   "cell_type": "code",
   "execution_count": 50,
   "metadata": {},
   "outputs": [
    {
     "data": {
      "text/plain": [
       "['DirEntry',\n",
       " 'F_OK',\n",
       " 'MutableMapping',\n",
       " 'O_APPEND',\n",
       " 'O_BINARY',\n",
       " 'O_CREAT',\n",
       " 'O_EXCL',\n",
       " 'O_NOINHERIT',\n",
       " 'O_RANDOM',\n",
       " 'O_RDONLY',\n",
       " 'O_RDWR',\n",
       " 'O_SEQUENTIAL',\n",
       " 'O_SHORT_LIVED',\n",
       " 'O_TEMPORARY',\n",
       " 'O_TEXT',\n",
       " 'O_TRUNC',\n",
       " 'O_WRONLY',\n",
       " 'P_DETACH',\n",
       " 'P_NOWAIT',\n",
       " 'P_NOWAITO',\n",
       " 'P_OVERLAY',\n",
       " 'P_WAIT',\n",
       " 'PathLike',\n",
       " 'R_OK',\n",
       " 'SEEK_CUR',\n",
       " 'SEEK_END',\n",
       " 'SEEK_SET',\n",
       " 'TMP_MAX',\n",
       " 'W_OK',\n",
       " 'X_OK',\n",
       " '_AddedDllDirectory',\n",
       " '_Environ',\n",
       " '__all__',\n",
       " '__builtins__',\n",
       " '__cached__',\n",
       " '__doc__',\n",
       " '__file__',\n",
       " '__loader__',\n",
       " '__name__',\n",
       " '__package__',\n",
       " '__spec__',\n",
       " '_execvpe',\n",
       " '_exists',\n",
       " '_exit',\n",
       " '_fspath',\n",
       " '_get_exports_list',\n",
       " '_putenv',\n",
       " '_unsetenv',\n",
       " '_wrap_close',\n",
       " 'abc',\n",
       " 'abort',\n",
       " 'access',\n",
       " 'add_dll_directory',\n",
       " 'altsep',\n",
       " 'chdir',\n",
       " 'chmod',\n",
       " 'close',\n",
       " 'closerange',\n",
       " 'cpu_count',\n",
       " 'curdir',\n",
       " 'defpath',\n",
       " 'device_encoding',\n",
       " 'devnull',\n",
       " 'dup',\n",
       " 'dup2',\n",
       " 'environ',\n",
       " 'error',\n",
       " 'execl',\n",
       " 'execle',\n",
       " 'execlp',\n",
       " 'execlpe',\n",
       " 'execv',\n",
       " 'execve',\n",
       " 'execvp',\n",
       " 'execvpe',\n",
       " 'extsep',\n",
       " 'fdopen',\n",
       " 'fsdecode',\n",
       " 'fsencode',\n",
       " 'fspath',\n",
       " 'fstat',\n",
       " 'fsync',\n",
       " 'ftruncate',\n",
       " 'get_exec_path',\n",
       " 'get_handle_inheritable',\n",
       " 'get_inheritable',\n",
       " 'get_terminal_size',\n",
       " 'getcwd',\n",
       " 'getcwdb',\n",
       " 'getenv',\n",
       " 'getlogin',\n",
       " 'getpid',\n",
       " 'getppid',\n",
       " 'isatty',\n",
       " 'kill',\n",
       " 'linesep',\n",
       " 'link',\n",
       " 'listdir',\n",
       " 'lseek',\n",
       " 'lstat',\n",
       " 'makedirs',\n",
       " 'mkdir',\n",
       " 'name',\n",
       " 'open',\n",
       " 'pardir',\n",
       " 'path',\n",
       " 'pathsep',\n",
       " 'pipe',\n",
       " 'popen',\n",
       " 'putenv',\n",
       " 'read',\n",
       " 'readlink',\n",
       " 'remove',\n",
       " 'removedirs',\n",
       " 'rename',\n",
       " 'renames',\n",
       " 'replace',\n",
       " 'rmdir',\n",
       " 'scandir',\n",
       " 'sep',\n",
       " 'set_handle_inheritable',\n",
       " 'set_inheritable',\n",
       " 'spawnl',\n",
       " 'spawnle',\n",
       " 'spawnv',\n",
       " 'spawnve',\n",
       " 'st',\n",
       " 'startfile',\n",
       " 'stat',\n",
       " 'stat_result',\n",
       " 'statvfs_result',\n",
       " 'strerror',\n",
       " 'supports_bytes_environ',\n",
       " 'supports_dir_fd',\n",
       " 'supports_effective_ids',\n",
       " 'supports_fd',\n",
       " 'supports_follow_symlinks',\n",
       " 'symlink',\n",
       " 'sys',\n",
       " 'system',\n",
       " 'terminal_size',\n",
       " 'times',\n",
       " 'times_result',\n",
       " 'truncate',\n",
       " 'umask',\n",
       " 'uname_result',\n",
       " 'unlink',\n",
       " 'urandom',\n",
       " 'utime',\n",
       " 'waitpid',\n",
       " 'walk',\n",
       " 'write']"
      ]
     },
     "execution_count": 50,
     "metadata": {},
     "output_type": "execute_result"
    }
   ],
   "source": [
    "dir(os)"
   ]
  },
  {
   "cell_type": "code",
   "execution_count": 80,
   "metadata": {},
   "outputs": [
    {
     "data": {
      "text/plain": [
       "'C:\\\\Users\\\\MONICA'"
      ]
     },
     "execution_count": 80,
     "metadata": {},
     "output_type": "execute_result"
    }
   ],
   "source": [
    "# Ejemplo del módulo os\n",
    "os.getcwd()"
   ]
  },
  {
   "cell_type": "code",
   "execution_count": 81,
   "metadata": {},
   "outputs": [],
   "source": [
    "# Módulo pdb\n",
    "import pdb "
   ]
  },
  {
   "cell_type": "code",
   "execution_count": 82,
   "metadata": {},
   "outputs": [
    {
     "data": {
      "text/plain": [
       "['Pdb',\n",
       " 'Restart',\n",
       " 'TESTCMD',\n",
       " '__all__',\n",
       " '__builtins__',\n",
       " '__cached__',\n",
       " '__doc__',\n",
       " '__file__',\n",
       " '__loader__',\n",
       " '__name__',\n",
       " '__package__',\n",
       " '__spec__',\n",
       " '_rstr',\n",
       " '_usage',\n",
       " 'bdb',\n",
       " 'cmd',\n",
       " 'code',\n",
       " 'dis',\n",
       " 'find_function',\n",
       " 'getsourcelines',\n",
       " 'glob',\n",
       " 'help',\n",
       " 'inspect',\n",
       " 'io',\n",
       " 'lasti2lineno',\n",
       " 'line_prefix',\n",
       " 'linecache',\n",
       " 'main',\n",
       " 'os',\n",
       " 'pm',\n",
       " 'post_mortem',\n",
       " 'pprint',\n",
       " 're',\n",
       " 'run',\n",
       " 'runcall',\n",
       " 'runctx',\n",
       " 'runeval',\n",
       " 'set_trace',\n",
       " 'signal',\n",
       " 'sys',\n",
       " 'test',\n",
       " 'traceback']"
      ]
     },
     "execution_count": 82,
     "metadata": {},
     "output_type": "execute_result"
    }
   ],
   "source": [
    "dir(pdb)"
   ]
  },
  {
   "cell_type": "code",
   "execution_count": 87,
   "metadata": {},
   "outputs": [
    {
     "data": {
      "text/plain": [
       "<module 'os' from 'C:\\\\Users\\\\MONICA\\\\Anaconda3\\\\envs\\\\myenv\\\\lib\\\\os.py'>"
      ]
     },
     "execution_count": 87,
     "metadata": {},
     "output_type": "execute_result"
    }
   ],
   "source": [
    "# Ejemplo del módulo\n",
    "pdb.os"
   ]
  },
  {
   "cell_type": "markdown",
   "metadata": {},
   "source": [
    "# You Must Reset Kernel 0,0\n",
    "\n",
    "from math import pi\n",
    "\n",
    "A = pi*(r**2)\n",
    "\n",
    "print(A)"
   ]
  },
  {
   "cell_type": "code",
   "execution_count": 108,
   "metadata": {},
   "outputs": [],
   "source": [
    "# Se importó el atributo pi utilizando \"from\" "
   ]
  },
  {
   "cell_type": "code",
   "execution_count": 114,
   "metadata": {},
   "outputs": [],
   "source": [
    "import turtle\n",
    "\n",
    "def tree(length,n):\n",
    "    if length < (length/n):\n",
    "        return\n",
    "    turtle.forward(length)\n",
    "    turtle.left(45)\n",
    "    tree(length * 0.5,length/n)\n",
    "    turtle.left(20)\n",
    "    tree(length * 0.5,length/n)\n",
    "    turtle.right(75)\n",
    "    tree(length * 0.5,length/n)\n",
    "    turtle.right(20)\n",
    "    tree(length * 0.5,length/n)\n",
    "    turtle.left(30)\n",
    "    turtle.backward(length)\n",
    "    return\n",
    "\n",
    "turtle.left(90)\n",
    "turtle.backward(30)\n",
    "tree(200,4)\n",
    "\n"
   ]
  },
  {
   "cell_type": "code",
   "execution_count": 2,
   "metadata": {},
   "outputs": [
    {
     "ename": "Terminator",
     "evalue": "",
     "output_type": "error",
     "traceback": [
      "\u001b[1;31m---------------------------------------------------------------------------\u001b[0m",
      "\u001b[1;31mTerminator\u001b[0m                                Traceback (most recent call last)",
      "\u001b[1;32m<ipython-input-2-c562f6479354>\u001b[0m in \u001b[0;36m<module>\u001b[1;34m\u001b[0m\n\u001b[0;32m     15\u001b[0m \u001b[1;33m\u001b[0m\u001b[0m\n\u001b[0;32m     16\u001b[0m \u001b[1;31m# ----------\u001b[0m\u001b[1;33m\u001b[0m\u001b[1;33m\u001b[0m\u001b[1;33m\u001b[0m\u001b[0m\n\u001b[1;32m---> 17\u001b[1;33m \u001b[0mRecursive_Koch\u001b[0m\u001b[1;33m(\u001b[0m\u001b[1;36m3\u001b[0m\u001b[1;33m,\u001b[0m \u001b[1;36m6\u001b[0m\u001b[1;33m)\u001b[0m\u001b[1;33m\u001b[0m\u001b[1;33m\u001b[0m\u001b[0m\n\u001b[0m",
      "\u001b[1;32m<ipython-input-2-c562f6479354>\u001b[0m in \u001b[0;36mRecursive_Koch\u001b[1;34m(length, depth)\u001b[0m\n\u001b[0;32m      5\u001b[0m         \u001b[0mforward\u001b[0m\u001b[1;33m(\u001b[0m\u001b[0mlength\u001b[0m\u001b[1;33m)\u001b[0m\u001b[1;33m\u001b[0m\u001b[1;33m\u001b[0m\u001b[0m\n\u001b[0;32m      6\u001b[0m     \u001b[1;32melse\u001b[0m\u001b[1;33m:\u001b[0m\u001b[1;33m\u001b[0m\u001b[1;33m\u001b[0m\u001b[0m\n\u001b[1;32m----> 7\u001b[1;33m         \u001b[0mRecursive_Koch\u001b[0m\u001b[1;33m(\u001b[0m\u001b[0mlength\u001b[0m\u001b[1;33m,\u001b[0m \u001b[0mdepth\u001b[0m\u001b[1;33m-\u001b[0m\u001b[1;36m1\u001b[0m\u001b[1;33m)\u001b[0m\u001b[1;33m\u001b[0m\u001b[1;33m\u001b[0m\u001b[0m\n\u001b[0m\u001b[0;32m      8\u001b[0m         \u001b[0mright\u001b[0m\u001b[1;33m(\u001b[0m\u001b[1;36m60\u001b[0m\u001b[1;33m)\u001b[0m\u001b[1;33m\u001b[0m\u001b[1;33m\u001b[0m\u001b[0m\n\u001b[0;32m      9\u001b[0m         \u001b[0mRecursive_Koch\u001b[0m\u001b[1;33m(\u001b[0m\u001b[0mlength\u001b[0m\u001b[1;33m,\u001b[0m \u001b[0mdepth\u001b[0m\u001b[1;33m-\u001b[0m\u001b[1;36m1\u001b[0m\u001b[1;33m)\u001b[0m\u001b[1;33m\u001b[0m\u001b[1;33m\u001b[0m\u001b[0m\n",
      "\u001b[1;32m<ipython-input-2-c562f6479354>\u001b[0m in \u001b[0;36mRecursive_Koch\u001b[1;34m(length, depth)\u001b[0m\n\u001b[0;32m      5\u001b[0m         \u001b[0mforward\u001b[0m\u001b[1;33m(\u001b[0m\u001b[0mlength\u001b[0m\u001b[1;33m)\u001b[0m\u001b[1;33m\u001b[0m\u001b[1;33m\u001b[0m\u001b[0m\n\u001b[0;32m      6\u001b[0m     \u001b[1;32melse\u001b[0m\u001b[1;33m:\u001b[0m\u001b[1;33m\u001b[0m\u001b[1;33m\u001b[0m\u001b[0m\n\u001b[1;32m----> 7\u001b[1;33m         \u001b[0mRecursive_Koch\u001b[0m\u001b[1;33m(\u001b[0m\u001b[0mlength\u001b[0m\u001b[1;33m,\u001b[0m \u001b[0mdepth\u001b[0m\u001b[1;33m-\u001b[0m\u001b[1;36m1\u001b[0m\u001b[1;33m)\u001b[0m\u001b[1;33m\u001b[0m\u001b[1;33m\u001b[0m\u001b[0m\n\u001b[0m\u001b[0;32m      8\u001b[0m         \u001b[0mright\u001b[0m\u001b[1;33m(\u001b[0m\u001b[1;36m60\u001b[0m\u001b[1;33m)\u001b[0m\u001b[1;33m\u001b[0m\u001b[1;33m\u001b[0m\u001b[0m\n\u001b[0;32m      9\u001b[0m         \u001b[0mRecursive_Koch\u001b[0m\u001b[1;33m(\u001b[0m\u001b[0mlength\u001b[0m\u001b[1;33m,\u001b[0m \u001b[0mdepth\u001b[0m\u001b[1;33m-\u001b[0m\u001b[1;36m1\u001b[0m\u001b[1;33m)\u001b[0m\u001b[1;33m\u001b[0m\u001b[1;33m\u001b[0m\u001b[0m\n",
      "\u001b[1;32m<ipython-input-2-c562f6479354>\u001b[0m in \u001b[0;36mRecursive_Koch\u001b[1;34m(length, depth)\u001b[0m\n\u001b[0;32m      5\u001b[0m         \u001b[0mforward\u001b[0m\u001b[1;33m(\u001b[0m\u001b[0mlength\u001b[0m\u001b[1;33m)\u001b[0m\u001b[1;33m\u001b[0m\u001b[1;33m\u001b[0m\u001b[0m\n\u001b[0;32m      6\u001b[0m     \u001b[1;32melse\u001b[0m\u001b[1;33m:\u001b[0m\u001b[1;33m\u001b[0m\u001b[1;33m\u001b[0m\u001b[0m\n\u001b[1;32m----> 7\u001b[1;33m         \u001b[0mRecursive_Koch\u001b[0m\u001b[1;33m(\u001b[0m\u001b[0mlength\u001b[0m\u001b[1;33m,\u001b[0m \u001b[0mdepth\u001b[0m\u001b[1;33m-\u001b[0m\u001b[1;36m1\u001b[0m\u001b[1;33m)\u001b[0m\u001b[1;33m\u001b[0m\u001b[1;33m\u001b[0m\u001b[0m\n\u001b[0m\u001b[0;32m      8\u001b[0m         \u001b[0mright\u001b[0m\u001b[1;33m(\u001b[0m\u001b[1;36m60\u001b[0m\u001b[1;33m)\u001b[0m\u001b[1;33m\u001b[0m\u001b[1;33m\u001b[0m\u001b[0m\n\u001b[0;32m      9\u001b[0m         \u001b[0mRecursive_Koch\u001b[0m\u001b[1;33m(\u001b[0m\u001b[0mlength\u001b[0m\u001b[1;33m,\u001b[0m \u001b[0mdepth\u001b[0m\u001b[1;33m-\u001b[0m\u001b[1;36m1\u001b[0m\u001b[1;33m)\u001b[0m\u001b[1;33m\u001b[0m\u001b[1;33m\u001b[0m\u001b[0m\n",
      "\u001b[1;32m<ipython-input-2-c562f6479354>\u001b[0m in \u001b[0;36mRecursive_Koch\u001b[1;34m(length, depth)\u001b[0m\n\u001b[0;32m      5\u001b[0m         \u001b[0mforward\u001b[0m\u001b[1;33m(\u001b[0m\u001b[0mlength\u001b[0m\u001b[1;33m)\u001b[0m\u001b[1;33m\u001b[0m\u001b[1;33m\u001b[0m\u001b[0m\n\u001b[0;32m      6\u001b[0m     \u001b[1;32melse\u001b[0m\u001b[1;33m:\u001b[0m\u001b[1;33m\u001b[0m\u001b[1;33m\u001b[0m\u001b[0m\n\u001b[1;32m----> 7\u001b[1;33m         \u001b[0mRecursive_Koch\u001b[0m\u001b[1;33m(\u001b[0m\u001b[0mlength\u001b[0m\u001b[1;33m,\u001b[0m \u001b[0mdepth\u001b[0m\u001b[1;33m-\u001b[0m\u001b[1;36m1\u001b[0m\u001b[1;33m)\u001b[0m\u001b[1;33m\u001b[0m\u001b[1;33m\u001b[0m\u001b[0m\n\u001b[0m\u001b[0;32m      8\u001b[0m         \u001b[0mright\u001b[0m\u001b[1;33m(\u001b[0m\u001b[1;36m60\u001b[0m\u001b[1;33m)\u001b[0m\u001b[1;33m\u001b[0m\u001b[1;33m\u001b[0m\u001b[0m\n\u001b[0;32m      9\u001b[0m         \u001b[0mRecursive_Koch\u001b[0m\u001b[1;33m(\u001b[0m\u001b[0mlength\u001b[0m\u001b[1;33m,\u001b[0m \u001b[0mdepth\u001b[0m\u001b[1;33m-\u001b[0m\u001b[1;36m1\u001b[0m\u001b[1;33m)\u001b[0m\u001b[1;33m\u001b[0m\u001b[1;33m\u001b[0m\u001b[0m\n",
      "\u001b[1;32m<ipython-input-2-c562f6479354>\u001b[0m in \u001b[0;36mRecursive_Koch\u001b[1;34m(length, depth)\u001b[0m\n\u001b[0;32m     10\u001b[0m         \u001b[0mleft\u001b[0m\u001b[1;33m(\u001b[0m\u001b[1;36m120\u001b[0m\u001b[1;33m)\u001b[0m\u001b[1;33m\u001b[0m\u001b[1;33m\u001b[0m\u001b[0m\n\u001b[0;32m     11\u001b[0m         \u001b[1;31m#Recursive_Koch(length, depth-1)\u001b[0m\u001b[1;33m\u001b[0m\u001b[1;33m\u001b[0m\u001b[1;33m\u001b[0m\u001b[0m\n\u001b[1;32m---> 12\u001b[1;33m         \u001b[0mRecursive_Koch\u001b[0m\u001b[1;33m(\u001b[0m\u001b[0mlength\u001b[0m\u001b[1;33m,\u001b[0m \u001b[0mdepth\u001b[0m\u001b[1;33m-\u001b[0m\u001b[1;36m1\u001b[0m\u001b[1;33m)\u001b[0m\u001b[1;33m\u001b[0m\u001b[1;33m\u001b[0m\u001b[0m\n\u001b[0m\u001b[0;32m     13\u001b[0m         \u001b[0mright\u001b[0m\u001b[1;33m(\u001b[0m\u001b[1;36m60\u001b[0m\u001b[1;33m)\u001b[0m\u001b[1;33m\u001b[0m\u001b[1;33m\u001b[0m\u001b[0m\n\u001b[0;32m     14\u001b[0m         \u001b[0mRecursive_Koch\u001b[0m\u001b[1;33m(\u001b[0m\u001b[0mlength\u001b[0m\u001b[1;33m,\u001b[0m \u001b[0mdepth\u001b[0m\u001b[1;33m-\u001b[0m\u001b[1;36m1\u001b[0m\u001b[1;33m)\u001b[0m\u001b[1;33m\u001b[0m\u001b[1;33m\u001b[0m\u001b[0m\n",
      "\u001b[1;32m<ipython-input-2-c562f6479354>\u001b[0m in \u001b[0;36mRecursive_Koch\u001b[1;34m(length, depth)\u001b[0m\n\u001b[0;32m     11\u001b[0m         \u001b[1;31m#Recursive_Koch(length, depth-1)\u001b[0m\u001b[1;33m\u001b[0m\u001b[1;33m\u001b[0m\u001b[1;33m\u001b[0m\u001b[0m\n\u001b[0;32m     12\u001b[0m         \u001b[0mRecursive_Koch\u001b[0m\u001b[1;33m(\u001b[0m\u001b[0mlength\u001b[0m\u001b[1;33m,\u001b[0m \u001b[0mdepth\u001b[0m\u001b[1;33m-\u001b[0m\u001b[1;36m1\u001b[0m\u001b[1;33m)\u001b[0m\u001b[1;33m\u001b[0m\u001b[1;33m\u001b[0m\u001b[0m\n\u001b[1;32m---> 13\u001b[1;33m         \u001b[0mright\u001b[0m\u001b[1;33m(\u001b[0m\u001b[1;36m60\u001b[0m\u001b[1;33m)\u001b[0m\u001b[1;33m\u001b[0m\u001b[1;33m\u001b[0m\u001b[0m\n\u001b[0m\u001b[0;32m     14\u001b[0m         \u001b[0mRecursive_Koch\u001b[0m\u001b[1;33m(\u001b[0m\u001b[0mlength\u001b[0m\u001b[1;33m,\u001b[0m \u001b[0mdepth\u001b[0m\u001b[1;33m-\u001b[0m\u001b[1;36m1\u001b[0m\u001b[1;33m)\u001b[0m\u001b[1;33m\u001b[0m\u001b[1;33m\u001b[0m\u001b[0m\n\u001b[0;32m     15\u001b[0m \u001b[1;33m\u001b[0m\u001b[0m\n",
      "\u001b[1;32m~\\Anaconda3\\envs\\myenv\\lib\\turtle.py\u001b[0m in \u001b[0;36mright\u001b[1;34m(angle)\u001b[0m\n",
      "\u001b[1;32m~\\Anaconda3\\envs\\myenv\\lib\\turtle.py\u001b[0m in \u001b[0;36mright\u001b[1;34m(self, angle)\u001b[0m\n\u001b[0;32m   1676\u001b[0m         \u001b[1;36m337.0\u001b[0m\u001b[1;33m\u001b[0m\u001b[1;33m\u001b[0m\u001b[0m\n\u001b[0;32m   1677\u001b[0m         \"\"\"\n\u001b[1;32m-> 1678\u001b[1;33m         \u001b[0mself\u001b[0m\u001b[1;33m.\u001b[0m\u001b[0m_rotate\u001b[0m\u001b[1;33m(\u001b[0m\u001b[1;33m-\u001b[0m\u001b[0mangle\u001b[0m\u001b[1;33m)\u001b[0m\u001b[1;33m\u001b[0m\u001b[1;33m\u001b[0m\u001b[0m\n\u001b[0m\u001b[0;32m   1679\u001b[0m \u001b[1;33m\u001b[0m\u001b[0m\n\u001b[0;32m   1680\u001b[0m     \u001b[1;32mdef\u001b[0m \u001b[0mleft\u001b[0m\u001b[1;33m(\u001b[0m\u001b[0mself\u001b[0m\u001b[1;33m,\u001b[0m \u001b[0mangle\u001b[0m\u001b[1;33m)\u001b[0m\u001b[1;33m:\u001b[0m\u001b[1;33m\u001b[0m\u001b[1;33m\u001b[0m\u001b[0m\n",
      "\u001b[1;32m~\\Anaconda3\\envs\\myenv\\lib\\turtle.py\u001b[0m in \u001b[0;36m_rotate\u001b[1;34m(self, angle)\u001b[0m\n\u001b[0;32m   3274\u001b[0m             \u001b[1;32mfor\u001b[0m \u001b[0m_\u001b[0m \u001b[1;32min\u001b[0m \u001b[0mrange\u001b[0m\u001b[1;33m(\u001b[0m\u001b[0msteps\u001b[0m\u001b[1;33m)\u001b[0m\u001b[1;33m:\u001b[0m\u001b[1;33m\u001b[0m\u001b[1;33m\u001b[0m\u001b[0m\n\u001b[0;32m   3275\u001b[0m                 \u001b[0mself\u001b[0m\u001b[1;33m.\u001b[0m\u001b[0m_orient\u001b[0m \u001b[1;33m=\u001b[0m \u001b[0mself\u001b[0m\u001b[1;33m.\u001b[0m\u001b[0m_orient\u001b[0m\u001b[1;33m.\u001b[0m\u001b[0mrotate\u001b[0m\u001b[1;33m(\u001b[0m\u001b[0mdelta\u001b[0m\u001b[1;33m)\u001b[0m\u001b[1;33m\u001b[0m\u001b[1;33m\u001b[0m\u001b[0m\n\u001b[1;32m-> 3276\u001b[1;33m                 \u001b[0mself\u001b[0m\u001b[1;33m.\u001b[0m\u001b[0m_update\u001b[0m\u001b[1;33m(\u001b[0m\u001b[1;33m)\u001b[0m\u001b[1;33m\u001b[0m\u001b[1;33m\u001b[0m\u001b[0m\n\u001b[0m\u001b[0;32m   3277\u001b[0m         \u001b[0mself\u001b[0m\u001b[1;33m.\u001b[0m\u001b[0m_orient\u001b[0m \u001b[1;33m=\u001b[0m \u001b[0mneworient\u001b[0m\u001b[1;33m\u001b[0m\u001b[1;33m\u001b[0m\u001b[0m\n\u001b[0;32m   3278\u001b[0m         \u001b[0mself\u001b[0m\u001b[1;33m.\u001b[0m\u001b[0m_update\u001b[0m\u001b[1;33m(\u001b[0m\u001b[1;33m)\u001b[0m\u001b[1;33m\u001b[0m\u001b[1;33m\u001b[0m\u001b[0m\n",
      "\u001b[1;32m~\\Anaconda3\\envs\\myenv\\lib\\turtle.py\u001b[0m in \u001b[0;36m_update\u001b[1;34m(self)\u001b[0m\n\u001b[0;32m   2658\u001b[0m             \u001b[1;32mreturn\u001b[0m\u001b[1;33m\u001b[0m\u001b[1;33m\u001b[0m\u001b[0m\n\u001b[0;32m   2659\u001b[0m         \u001b[1;32melif\u001b[0m \u001b[0mscreen\u001b[0m\u001b[1;33m.\u001b[0m\u001b[0m_tracing\u001b[0m \u001b[1;33m==\u001b[0m \u001b[1;36m1\u001b[0m\u001b[1;33m:\u001b[0m\u001b[1;33m\u001b[0m\u001b[1;33m\u001b[0m\u001b[0m\n\u001b[1;32m-> 2660\u001b[1;33m             \u001b[0mself\u001b[0m\u001b[1;33m.\u001b[0m\u001b[0m_update_data\u001b[0m\u001b[1;33m(\u001b[0m\u001b[1;33m)\u001b[0m\u001b[1;33m\u001b[0m\u001b[1;33m\u001b[0m\u001b[0m\n\u001b[0m\u001b[0;32m   2661\u001b[0m             \u001b[0mself\u001b[0m\u001b[1;33m.\u001b[0m\u001b[0m_drawturtle\u001b[0m\u001b[1;33m(\u001b[0m\u001b[1;33m)\u001b[0m\u001b[1;33m\u001b[0m\u001b[1;33m\u001b[0m\u001b[0m\n\u001b[0;32m   2662\u001b[0m             \u001b[0mscreen\u001b[0m\u001b[1;33m.\u001b[0m\u001b[0m_update\u001b[0m\u001b[1;33m(\u001b[0m\u001b[1;33m)\u001b[0m                  \u001b[1;31m# TurtleScreenBase\u001b[0m\u001b[1;33m\u001b[0m\u001b[1;33m\u001b[0m\u001b[0m\n",
      "\u001b[1;32m~\\Anaconda3\\envs\\myenv\\lib\\turtle.py\u001b[0m in \u001b[0;36m_update_data\u001b[1;34m(self)\u001b[0m\n\u001b[0;32m   2644\u001b[0m \u001b[1;33m\u001b[0m\u001b[0m\n\u001b[0;32m   2645\u001b[0m     \u001b[1;32mdef\u001b[0m \u001b[0m_update_data\u001b[0m\u001b[1;33m(\u001b[0m\u001b[0mself\u001b[0m\u001b[1;33m)\u001b[0m\u001b[1;33m:\u001b[0m\u001b[1;33m\u001b[0m\u001b[1;33m\u001b[0m\u001b[0m\n\u001b[1;32m-> 2646\u001b[1;33m         \u001b[0mself\u001b[0m\u001b[1;33m.\u001b[0m\u001b[0mscreen\u001b[0m\u001b[1;33m.\u001b[0m\u001b[0m_incrementudc\u001b[0m\u001b[1;33m(\u001b[0m\u001b[1;33m)\u001b[0m\u001b[1;33m\u001b[0m\u001b[1;33m\u001b[0m\u001b[0m\n\u001b[0m\u001b[0;32m   2647\u001b[0m         \u001b[1;32mif\u001b[0m \u001b[0mself\u001b[0m\u001b[1;33m.\u001b[0m\u001b[0mscreen\u001b[0m\u001b[1;33m.\u001b[0m\u001b[0m_updatecounter\u001b[0m \u001b[1;33m!=\u001b[0m \u001b[1;36m0\u001b[0m\u001b[1;33m:\u001b[0m\u001b[1;33m\u001b[0m\u001b[1;33m\u001b[0m\u001b[0m\n\u001b[0;32m   2648\u001b[0m             \u001b[1;32mreturn\u001b[0m\u001b[1;33m\u001b[0m\u001b[1;33m\u001b[0m\u001b[0m\n",
      "\u001b[1;32m~\\Anaconda3\\envs\\myenv\\lib\\turtle.py\u001b[0m in \u001b[0;36m_incrementudc\u001b[1;34m(self)\u001b[0m\n\u001b[0;32m   1290\u001b[0m         \u001b[1;32mif\u001b[0m \u001b[1;32mnot\u001b[0m \u001b[0mTurtleScreen\u001b[0m\u001b[1;33m.\u001b[0m\u001b[0m_RUNNING\u001b[0m\u001b[1;33m:\u001b[0m\u001b[1;33m\u001b[0m\u001b[1;33m\u001b[0m\u001b[0m\n\u001b[0;32m   1291\u001b[0m             \u001b[0mTurtleScreen\u001b[0m\u001b[1;33m.\u001b[0m\u001b[0m_RUNNING\u001b[0m \u001b[1;33m=\u001b[0m \u001b[1;32mTrue\u001b[0m\u001b[1;33m\u001b[0m\u001b[1;33m\u001b[0m\u001b[0m\n\u001b[1;32m-> 1292\u001b[1;33m             \u001b[1;32mraise\u001b[0m \u001b[0mTerminator\u001b[0m\u001b[1;33m\u001b[0m\u001b[1;33m\u001b[0m\u001b[0m\n\u001b[0m\u001b[0;32m   1293\u001b[0m         \u001b[1;32mif\u001b[0m \u001b[0mself\u001b[0m\u001b[1;33m.\u001b[0m\u001b[0m_tracing\u001b[0m \u001b[1;33m>\u001b[0m \u001b[1;36m0\u001b[0m\u001b[1;33m:\u001b[0m\u001b[1;33m\u001b[0m\u001b[1;33m\u001b[0m\u001b[0m\n\u001b[0;32m   1294\u001b[0m             \u001b[0mself\u001b[0m\u001b[1;33m.\u001b[0m\u001b[0m_updatecounter\u001b[0m \u001b[1;33m+=\u001b[0m \u001b[1;36m1\u001b[0m\u001b[1;33m\u001b[0m\u001b[1;33m\u001b[0m\u001b[0m\n",
      "\u001b[1;31mTerminator\u001b[0m: "
     ]
    }
   ],
   "source": [
    "from turtle import *\n",
    "\n",
    "def Recursive_Koch(length, depth):\n",
    "    if depth == 0:\n",
    "        forward(length)\n",
    "    else:\n",
    "        Recursive_Koch(length, depth-1)\n",
    "        right(60)\n",
    "        Recursive_Koch(length, depth-1)\n",
    "        left(120)\n",
    "        #Recursive_Koch(length, depth-1)\n",
    "        Recursive_Koch(length, depth-1)\n",
    "        right(60)\n",
    "        Recursive_Koch(length, depth-1)\n",
    "        \n",
    "# ----------\n",
    "Recursive_Koch(3, 6)"
   ]
  },
  {
   "cell_type": "code",
   "execution_count": null,
   "metadata": {},
   "outputs": [],
   "source": []
  }
 ],
 "metadata": {
  "kernelspec": {
   "display_name": "Python 3",
   "language": "python",
   "name": "python3"
  },
  "language_info": {
   "codemirror_mode": {
    "name": "ipython",
    "version": 3
   },
   "file_extension": ".py",
   "mimetype": "text/x-python",
   "name": "python",
   "nbconvert_exporter": "python",
   "pygments_lexer": "ipython3",
   "version": "3.8.1"
  }
 },
 "nbformat": 4,
 "nbformat_minor": 4
}
