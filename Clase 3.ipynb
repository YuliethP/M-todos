{
 "cells": [
  {
   "cell_type": "markdown",
   "metadata": {},
   "source": [
    "# Tercera clase (feb 10)"
   ]
  },
  {
   "cell_type": "code",
   "execution_count": null,
   "metadata": {},
   "outputs": [],
   "source": [
    "Instalación de Julia y R"
   ]
  }
 ],
{
   "cell_type": "markdown",
   "metadata": {},
   "source": [
    "Para comenzar a descargar los paquetes debemos tener en cuenta un orden donde nos permita tener un optimo rendimiento.\n",
    "\n",
    "#Descarga de Tensorflow.\n"
    "> *En este caso se descarga primero Tensorflow, que nos permite que python funcione adecuadamente en los otros dos paquetes\n",
    "<img src=\"https://github.com/YuliethP/M-todos/blob/master/10.jpg?raw=true\" width=\"720\" >\n",
      
   ]
  },
  
 "metadata": {
  "kernelspec": {
   "display_name": "Python 3",
   "language": "python",
   "name": "python3"
  },
  "language_info": {
   "codemirror_mode": {
    "name": "ipython",
    "version": 3
   },
   "file_extension": ".py",
   "mimetype": "text/x-python",
   "name": "python",
   "nbconvert_exporter": "python",
   "pygments_lexer": "ipython3",
   "version": "3.8.1"
  }
 },
 "nbformat": 4,
 "nbformat_minor": 4
}
