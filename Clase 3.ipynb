{
 "cells": [
  {
   "cell_type": "markdown",
   "metadata": {},
   "source": [
    "# Tercera clase (feb 10)"
   ]
  },
  {
   "cell_type": "code",
   "execution_count": null,
   "metadata": {},
   "outputs": [],
   "source": [
    "Instalación de Julia y R"
   ]
  }
 ],
 [
  {
   "cell_type": "markdown",
   "metadata": {},
   "source": [
    "# Utilizando Kernels en JupyterLab\n",
    "\n",
    "¿Alguna vez te has preguntado si sería posible usar las posibilidades de Julia, Python y R en un sólo entorno gráfico estilo Notebook?\n",
    "\n",
    "\n",
    "**<center>¡Es posible!</center>**\n",
    "\n",
    "Para esto es necesario el concepto de Kernel e implementarlo en JupyterLab a través de Anaconda.\n",
    "\n",
    "El Objetivo de este cuaderno será lograr lo que se muestra a continuación cuando se inicialize JupyterLab:\n",
    "\n",
    "<img src=\""<img src=\"https://github.com/YuliethP/M-todos/blob/master/10.jpg?raw=true\" />\n",>"
   ]
  },
  
 "metadata": {
  "kernelspec": {
   "display_name": "Python 3",
   "language": "python",
   "name": "python3"
  },
  "language_info": {
   "codemirror_mode": {
    "name": "ipython",
    "version": 3
   },
   "file_extension": ".py",
   "mimetype": "text/x-python",
   "name": "python",
   "nbconvert_exporter": "python",
   "pygments_lexer": "ipython3",
   "version": "3.8.1"
  }
 },
 "nbformat": 4,
 "nbformat_minor": 4
}
