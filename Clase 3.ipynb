{
 "cells": [
  {
   "cell_type": "markdown",
   "metadata": {},
   "source": [
    "# Tercera clase (feb 10)"
   ]
  },
  {
   "cell_type": "code",
   "execution_count": null,
   "metadata": {},
   "outputs": [],
   "source": [
    "Instalación de Julia y R"
   ]
  }
 ],
 "<img src=\"https://github.com/YuliethP/M-todos/blob/master/10.jpg?raw=true\" />\n",
 "<img src=\"https://github.com/YuliethP/M-todos/blob/master/11.jpg?raw=true\" />\n",
 "<img src=\"https://github.com/YuliethP/M-todos/blob/master/12.jpg?raw=true\" />\n",
 "<img src=\"https://github.com/YuliethP/M-todos/blob/master/13.jpg?raw=true\" />\n",
 "<img src=\"https://github.com/YuliethP/M-todos/blob/master/14.jpg?raw=true\" />\n",
 
 "metadata": {
  "kernelspec": {
   "display_name": "Python 3",
   "language": "python",
   "name": "python3"
  },
  "language_info": {
   "codemirror_mode": {
    "name": "ipython",
    "version": 3
   },
   "file_extension": ".py",
   "mimetype": "text/x-python",
   "name": "python",
   "nbconvert_exporter": "python",
   "pygments_lexer": "ipython3",
   "version": "3.8.1"
  }
 },
 "nbformat": 4,
 "nbformat_minor": 4
}
