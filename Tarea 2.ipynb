{
 "cells": [
  {
   "cell_type": "markdown",
   "metadata": {},
   "source": [
    "# Segunda Clase (feb 05)"
   ]
  },
  {
   "cell_type": "markdown",
   "metadata": {},
   "source": [
    "### Crear un ambiente llamado tf2 que contenga jupyter, jupyterlab y tensorflow.\n"
   ]
  },
  {
   "cell_type": "markdown",
   "metadata": {},
   "source": [
    "Para comenzar a descargar los paquetes debemos tener en cuenta un orden donde nos permita tener un optimo rendimiento.\\\n",
    "#Descarga de Tensorflow.\\\n",
    "![title](1.jpg \"ambiente de trabajo pf2\")\\\n",
    "\n"
   ]
  },
  {
   "cell_type": "markdown",
   "metadata": {},
   "source": [
    "<img src="https://github.com/YuliethP/M-todos/blob/master/1.jpg?raw=true\"/>\n",
    "**Se realiza la instalación de Jupyter en el ambiente de trabajo tf2**"
   ]
  },
  {
   "cell_type": "markdown",
   "metadata": {},
   "source": [
    "<img src=\"3.jpg\"/>\\\n",
    "**Jupyerlab en este ambiente de trabajo**"
   ]
  },
  {
   "cell_type": "markdown",
   "metadata": {},
   "source": [
    "<img src=\"4.jpg\"/>\\\n",
    "**Ambiente de trabajo tf2 con los paquetes instalados**"
   ]
  },
  {
   "cell_type": "markdown",
   "metadata": {},
   "source": [
    "### ¿Qué versión de Python es implicada por la instalación?, ¿Es la más actual?\n",
    "La versión de Python es la 3.7.6 y la versión que se encuentra más actual  es la 3.8.1 pero ya está disponible para probar la versión 3.9.0 que está en fase de desarrollo. "
   ]
  },
  {
   "cell_type": "markdown",
   "metadata": {},
   "source": [
    "### Crear un ambiente llamado clase que contenga jupyter, jupyterlab, numpy y pandas.\n"
   ]
  },
  {
   "cell_type": "markdown",
   "metadata": {},
   "source": [
    "<img src=\"9.jpg\"/>\\\n",
    "El ambiente de trabajo **clase** se le instaló Jupyter Jupyterlab, Numpy y Pandas."
   ]
  },
  {
   "cell_type": "markdown",
   "metadata": {},
   "source": [
    "<img src=\"5.jpg\"/>\\\n",
    "**Instalación del primer paquete NumPy**"
   ]
  },
  {
   "cell_type": "markdown",
   "metadata": {},
   "source": [
    "<img src=\"6.jpg\"/>\\\n",
    "**Pandas es el segundo paquete instalado en este ambiente de trabajo.** Esto con el fin de tener un mejor rendimiento y no tener problemas con la versión de Python."
   ]
  },
  {
   "cell_type": "markdown",
   "metadata": {},
   "source": [
    "<img src=\"7.jpg\"/>"
   ]
  },
  {
   "cell_type": "markdown",
   "metadata": {},
   "source": [
    "<img src=\"8.jpg\"/>"
   ]
  },
  {
   "cell_type": "markdown",
   "metadata": {},
   "source": [
    "### ¿Qué versión de Numpy es implicada por la instalación?, ¿Es la más actual?\n"
   ]
  },
  {
   "cell_type": "markdown",
   "metadata": {},
   "source": [
    "La versión implicada es la 1.18.1 siendo la versión más actual. "
   ]
  },
  {
   "cell_type": "markdown",
   "metadata": {},
   "source": [
    "### Halle en la Web algún código que ejecute en versiones viejas de Python no compatibles con las actuales y viceversa."
   ]
  },
  {
   "cell_type": "markdown",
   "metadata": {},
   "source": [
    " python -c \"print(__import__('sys').version_info[:1])\" # (2,) python -c \"print(__import__('sys').version_info[:2])\" # (2, 7) python -c \"print(__import__('sys').version_info[:3])\" # (2, 7, 6)"
   ]
  }
 ],
 "metadata": {
  "kernelspec": {
   "display_name": "Python 3",
   "language": "python",
   "name": "python3"
  },
  "language_info": {
   "codemirror_mode": {
    "name": "ipython",
    "version": 3
   },
   "file_extension": ".py",
   "mimetype": "text/x-python",
   "name": "python",
   "nbconvert_exporter": "python",
   "pygments_lexer": "ipython3",
   "version": "3.7.6"
  }
 },
 "nbformat": 4,
 "nbformat_minor": 4
}
